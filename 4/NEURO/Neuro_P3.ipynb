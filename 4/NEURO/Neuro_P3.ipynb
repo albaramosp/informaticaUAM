{
  "nbformat": 4,
  "nbformat_minor": 0,
  "metadata": {
    "colab": {
      "name": "Neuro-P3.ipynb",
      "provenance": [],
      "collapsed_sections": [],
      "toc_visible": true
    },
    "kernelspec": {
      "name": "python3",
      "display_name": "Python 3"
    },
    "accelerator": "GPU"
  },
  "cells": [
    {
      "cell_type": "markdown",
      "metadata": {
        "id": "PTK5XDjA81SI"
      },
      "source": [
        "---\n",
        "# <font color=\"#CA3532\">Práctica 3 de Neurocomputación – Curso 2020-2021</font>\n",
        "### Escuela Politécnica Superior – Universidad Autónoma de Madrid\n",
        "\n",
        "---\n",
        "- Fecha de inicio: Lunes 15-04-2021 (Grupo 2462) / Martes 16-04-2021 (Grupo 2461)\n",
        "- Fecha de entrega: Lunes 10-05-2021 (Grupo 2462) / Martes 11-05-2021 (Grupo 2461)\n",
        "\n",
        "--- \n",
        "\n",
        "Última actualización: 15-04-2021"
      ]
    },
    {
      "cell_type": "markdown",
      "metadata": {
        "id": "jqWSLi9F9lTn"
      },
      "source": [
        "### <font color=\"#CA3532\">Introducción</font>\n",
        "\n",
        "- Esta práctica está centrada en [Keras](https://keras.io/)\n",
        "\n",
        "- Keras es una biblioteca de redes neuronales de código abierto, diseñada para la experimentación con redes neuronales profundas, con especial atención a la facilidad de uso, modularidad y extensibilidad.\n",
        "\n",
        "- Keras puede usar distintos motores. Aquí se usará con TensorFlow.\n",
        "\n"
      ]
    },
    {
      "cell_type": "code",
      "metadata": {
        "id": "d7Wiw7iJCbgi"
      },
      "source": [
        "### -------------------------------------------------------------------------------\n",
        "### Incluid vuestros nombres, pareja y grupo aquí.\n",
        "### -------------------------------------------------------------------------------\n",
        "\n",
        "estudiantes = [{'nombre': 'nombre del primer estudiante', 'pareja': 'PXX', 'grupo': 'XXXX'},\n",
        "               {'nombre': 'nombre del primer estudiante', 'pareja': 'PXX', 'grupo': 'XXXX'}]\n"
      ],
      "execution_count": null,
      "outputs": []
    },
    {
      "cell_type": "markdown",
      "metadata": {
        "id": "Y7vp1DQU_2KC"
      },
      "source": [
        "### <font color=\"#CA3532\">Importación de bibliotecas</font>\n",
        "\n",
        "TensorFlow incluye oficialmente Keras en su última versión."
      ]
    },
    {
      "cell_type": "code",
      "metadata": {
        "id": "oY36uRqOavkU"
      },
      "source": [
        "# Importaciones\n",
        "\n",
        "import numpy as np\n",
        "import matplotlib.pyplot as plt\n",
        "\n",
        "import tensorflow as tf\n",
        "from tensorflow import keras\n",
        "\n",
        "import keras as k\n",
        "from keras.models import Sequential\n",
        "from keras.layers import Dense\n",
        "\n",
        "from sklearn.preprocessing import StandardScaler"
      ],
      "execution_count": null,
      "outputs": []
    },
    {
      "cell_type": "markdown",
      "metadata": {
        "id": "a4vpTFrKAfG-"
      },
      "source": [
        "### <font color=\"#CA3532\">Datos del problema</font>\n"
      ]
    },
    {
      "cell_type": "code",
      "metadata": {
        "id": "nH2J34Gfbv_C"
      },
      "source": [
        "dataset_url = 'https://raw.githubusercontent.com/jbrownlee/Datasets/master/phoneme.csv'\n",
        "# Detalles en https://raw.githubusercontent.com/jbrownlee/Datasets/master/phoneme.names\n",
        "\n",
        "dataset = np.loadtxt(dataset_url, delimiter=',')\n",
        "\n",
        "print(dataset)\n",
        "\n",
        "### -------------------------------------------------------------------------------\n",
        "### Dividid los ejemplos en atributos y clases. Guardad el número de atributos.\n",
        "### -------------------------------------------------------------------------------\n"
      ],
      "execution_count": null,
      "outputs": []
    },
    {
      "cell_type": "code",
      "metadata": {
        "id": "6bhpFdYNCVKk"
      },
      "source": [
        "# Resultados de la división y el número de atributos\n",
        "\n",
        "print(x)\n",
        "print(y)\n",
        "print(x_size)"
      ],
      "execution_count": null,
      "outputs": []
    },
    {
      "cell_type": "code",
      "metadata": {
        "id": "CHMR1k6adBxU"
      },
      "source": [
        "# Normalizad los datos (si es necesario)\n",
        "\n",
        "# scaler = StandardScaler()\n",
        "# scaler.fit(x)\n",
        "# x = scaler.transform(x)"
      ],
      "execution_count": null,
      "outputs": []
    },
    {
      "cell_type": "markdown",
      "metadata": {
        "id": "QKjVzq5PFAa5"
      },
      "source": [
        "### <font color=\"#CA3532\">Definición del modelo de red neuronal</font>\n",
        "\n",
        "- Cada capa del modelo lleva definidas una serie de propiedades (tamaño, función de activación, conectividad, etc.). \n",
        "\n",
        "- Usaremos el modelo secuencial que Keras para crear una red neuronal multicapa con propagación hacia adelante.\n",
        "\n"
      ]
    },
    {
      "cell_type": "code",
      "metadata": {
        "id": "jSiN2kBpfJH2"
      },
      "source": [
        "# Definid el modelo con Keras\n",
        "\n",
        "nn = Sequential()\n",
        "\n",
        "### -------------------------------------------------------------------------------\n",
        "### Añadir la capas completamente conectadas que consideréis al modelo\n",
        "### -------------------------------------------------------------------------------\n"
      ],
      "execution_count": null,
      "outputs": []
    },
    {
      "cell_type": "markdown",
      "metadata": {
        "id": "XYS0uGZZjLqA"
      },
      "source": [
        "### <font color=\"#CA3532\">Compilación de la red neuronal</font>\n",
        "\n",
        "- La compilación es la operación que contruye la red neuronal.\n",
        "\n",
        "- La compilación incluye aspectos que se tendrán en cuenta en el entrenamiento de la red neuronal.\n",
        "\n",
        "- En la secciones de abajo encontraréis enlaces a la documentación oficial donde podréis encontrar información sobre las distintas estrategias de cada uno de los aspectos.\n",
        "\n",
        "- También es posible definid vuestras propias funciones.\n",
        "\n",
        "#### <font color=\"#CA3532\">Optimizador</font>\n",
        "\n",
        "El optimizador es la estrategia para calcular las correcciones de los pesos.\n",
        "\n",
        "https://keras.io/api/optimizers/\n",
        "\n",
        "\n",
        "#### <font color=\"#CA3532\"> Función de error (*Loss function*)</font>\n",
        "\n",
        "La función de error calcula la cantidad que el modelo debe minimizar durante el entrenamiento.\n",
        "\n",
        "https://keras.io/api/losses/\n",
        "\n",
        "#### <font color=\"#CA3532\">Métricas</font>\n",
        "\n",
        "Una métrica es una función que juzga la actuación del modelo. Son funciones similares a las funciones de error pero, a diferencia de estas, no se aplican durante el entrenamiento, sino sobre los resultados. También pueden usarse las funciones de error como metricas.\n",
        "\n",
        "https://keras.io/api/metrics/"
      ]
    },
    {
      "cell_type": "code",
      "metadata": {
        "id": "tU7t0cyMf-pL"
      },
      "source": [
        "# Compilación\n",
        "\n",
        "### -------------------------------------------------------------------------------\n",
        "### Compilad vuestro modelo de red neuronal\n",
        "### -------------------------------------------------------------------------------\n"
      ],
      "execution_count": null,
      "outputs": []
    },
    {
      "cell_type": "markdown",
      "metadata": {
        "id": "x-rNfZzqINgY"
      },
      "source": [
        "### <font color=\"#CA3532\">Entrenamiento de la red neuronal</font>\n",
        "\n",
        "El método \"fit\" entrena una red neuronal con los datos que se le proporcionen.\n",
        "\n",
        "Usaremos un 20 % de los datos para validación aunque están permitidas otras maneras de validar, incluso de optimizar de parámetros.\n",
        "\n",
        "https://keras.io/api/models/model_training_apis/#fit-method"
      ]
    },
    {
      "cell_type": "code",
      "metadata": {
        "id": "iEhDqXzLIISj"
      },
      "source": [
        "# Entrenamiento\n",
        "\n",
        "# history = nn.fit(x, y, epochs=4, verbose=1, validation_split=0.2)\n",
        "history = nn.fit(x, y, epochs=500, verbose=0, validation_split=0.2)\n",
        "\n",
        "# Detalles de la red neuronal\n",
        "\n",
        "nn.summary()\n",
        "print('\\n\\n')"
      ],
      "execution_count": null,
      "outputs": []
    },
    {
      "cell_type": "code",
      "metadata": {
        "id": "bITUxP8gMf2u"
      },
      "source": [
        "\n",
        "# Evaluación (es como \"fit\" en tanto que realiza una época con todos los datos pero sin cambiar ningún peso de la red neuronal)\n",
        "\n",
        "loss, accuracy = nn.evaluate(x, y)\n",
        "print('Accuracy: %.2f' % (accuracy * 100))\n",
        "\n",
        "# Además de \"evaluate\", hay otro método, \"predict\", que sirve para etiquetar datos no etiquetados."
      ],
      "execution_count": null,
      "outputs": []
    },
    {
      "cell_type": "markdown",
      "metadata": {
        "id": "BMrEGt9gMMv1"
      },
      "source": [
        "### <font color=\"#CA3532\">Visualización de resultados del entrenamiento</font>\n",
        "\n",
        "- El objeto *history* guarda los resultados de cada época."
      ]
    },
    {
      "cell_type": "code",
      "metadata": {
        "id": "QS4Gyf9OoZpl"
      },
      "source": [
        "# Visualizar los resultados del entrenamiento\n",
        "\n",
        "print(history.history.keys())\n",
        "\n",
        "plt.plot(history.history['accuracy'], label='Accuracy')\n",
        "plt.plot(history.history['val_accuracy'], label='Validation accuracy')\n",
        "plt.title('Accuracy')\n",
        "plt.ylabel('')\n",
        "plt.xlabel('Epoch')\n",
        "plt.legend(loc=\"upper left\")\n",
        "plt.show()\n",
        "\n",
        "plt.plot(history.history['loss'], label='Loss')\n",
        "plt.plot(history.history['val_loss'], label='Validation loss')\n",
        "plt.title('Mean Square Error')\n",
        "plt.ylabel('')\n",
        "plt.xlabel('Epoch')\n",
        "plt.legend(loc=\"upper left\")\n",
        "plt.show()"
      ],
      "execution_count": null,
      "outputs": []
    },
    {
      "cell_type": "code",
      "metadata": {
        "id": "tZ5KHO1dI4cJ"
      },
      "source": [
        "### -------------------------------------------------------------------------------\n",
        "### Explicad lo que se observa con distintas confifuraciones: \n",
        "### -------------------------------------------------------------------------------\n",
        "\n",
        "### Usando un número pequeño de neuronas en el capa oculta (~= neuronas de la capa de entrada)\n",
        "\n",
        "### Usando un número grande de neuroras en la capa oculta (>> neuronas de la capa de entrada)\n"
      ],
      "execution_count": null,
      "outputs": []
    },
    {
      "cell_type": "markdown",
      "metadata": {
        "id": "Z8E37UJTNqtg"
      },
      "source": [
        "### <font color=\"#CA3532\">Optimización del modelo de red neuronal</font>\n",
        "\n",
        "- Cambiad la arquitectura de la red neuronal introduciendo más capas y neuronas para conseguir mejores resultados:\n",
        " - Añadid más capas o diferente tipo de capas.\n",
        " - Cambiad las funciones de activación.\n",
        " - Cambiad la función de error o el optimizador.\n",
        "\n"
      ]
    },
    {
      "cell_type": "code",
      "metadata": {
        "id": "AJDhPCo4n4_i"
      },
      "source": [
        "# Define el nuevo modelo con Keras (podéis copiar esta sección para los distintos modelos)\n",
        "\n",
        "nn = Sequential()\n",
        "\n",
        "### ---------------------------------------------------------------------------\n",
        "### Incluid vuestro código aquí\n",
        "###----------------------------------------------------------------------------\n",
        "\n",
        "# Entrenamiento\n",
        "\n",
        "history = nn.fit(x, y, epochs=250, verbose=0, validation_split=0.2)\n",
        "\n",
        "# Detalles de la red\n",
        "\n",
        "nn.summary()\n",
        "print('\\n\\n')\n",
        "\n",
        "# Visualización resultados\n",
        "\n",
        "print(history.history.keys())\n",
        "\n",
        "plt.plot(history.history['accuracy'], label='Accuracy')\n",
        "plt.plot(history.history['val_accuracy'], label='Validation accuracy')\n",
        "plt.title('Accuracy')\n",
        "plt.ylabel('')\n",
        "plt.xlabel('Epoch')\n",
        "plt.legend(loc=\"upper left\")\n",
        "plt.show()\n",
        "\n",
        "plt.plot(history.history['loss'], label='Loss')\n",
        "plt.plot(history.history['val_loss'], label='Validation loss')\n",
        "plt.title('Mean Square Error')\n",
        "plt.ylabel('')\n",
        "plt.xlabel('Epoch')\n",
        "plt.legend(loc=\"upper left\")\n",
        "plt.show()\n",
        "\n",
        "# Evaluación\n",
        "\n",
        "loss, accuracy = nn.evaluate(x, y)\n",
        "print('Accuracy: %.2f' % (accuracy*100))"
      ],
      "execution_count": null,
      "outputs": []
    }
  ]
}