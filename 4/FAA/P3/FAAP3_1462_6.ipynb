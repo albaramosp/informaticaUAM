{
  "nbformat": 4,
  "nbformat_minor": 0,
  "metadata": {
    "colab": {
      "name": "FAAP3_1462_6.ipynb",
      "provenance": [],
      "collapsed_sections": [
        "JS9bWKwnzJaz",
        "WUvtxCJ-zUOq",
        "xGKFS8NP_Gvj",
        "p5joCV8_xJAb",
        "EukqlE2DxRCt",
        "1CsJfrrHvEkB",
        "KXVBQAD0vFnZ",
        "UhltO_2qdO72",
        "pFw2CBc0dO8O",
        "anIFPMWVdO8W",
        "r41JWDHwdO8Z",
        "U5TXQ-SLgKTP",
        "zTwqCtTP-ieg",
        "ZvHfERVfgKTa",
        "8O8gwfq6gKTm",
        "BpHY0WPbh1-e",
        "G3suN_lcvh4d",
        "ClEJS5Xqvh4l",
        "L1_PDoFavh4o",
        "LifoNRoMvh4n",
        "YMQm9AGUzW-f",
        "Fvst5PdgzcJo"
      ]
    },
    "kernelspec": {
      "name": "python3",
      "display_name": "Python 3"
    },
    "accelerator": "TPU"
  },
  "cells": [
    {
      "cell_type": "markdown",
      "metadata": {
        "id": "1hLC8ZjyA0EV"
      },
      "source": [
        "#AVISO: LOS RESULTADOS PUEDEN VARIAR SEGÚN LAS DISTINTAS EJECUCIONES, EL CÓDIGO TIENE UN FACTOR ALEATORIO DEBIDO A LA CREACIÓN ALEATORIA DE LAS PARTICIONES, LOS CRUCES Y MUTACIONES ALEATORIAS Y LA CREACIÓN DE UNA POBLACIÓN INICIAL ALEATORIA.\n",
        "\n",
        "\n"
      ]
    },
    {
      "cell_type": "markdown",
      "metadata": {
        "id": "JS9bWKwnzJaz"
      },
      "source": [
        "# Detalles de implementación"
      ]
    },
    {
      "cell_type": "markdown",
      "metadata": {
        "id": "49qTHZGE0JsZ"
      },
      "source": [
        "## Generación de la población inicial"
      ]
    },
    {
      "cell_type": "markdown",
      "metadata": {
        "id": "MFORRPIL0tb5"
      },
      "source": [
        "La población es un conjunto de individuos (tantos como se indique en el hiperparámetro *tamPoblacion*) que tienen cada uno un número de reglas arbitrario (desde 1 hasta un máximo que se pasa como hiperparámetro *nReglas*). Así, la población será una lista de individuos y el individuo será una lista de reglas, y cada regla es un cromosoma binario representado por una lista de bits aleatorios. La regla indica, para cada atributo, todos los posibles valores del mismo (esto lo sabemos gracias a nuestro diccionario de la P1, donde tenemos los *n* atributos y los *k<sub>i</sub>* valores distintos que puede tomar el atributo i-ésimo) que se encuentren activados en ese momento.\n",
        "\n",
        "Cuando creamos la población vamos a aprovechar también para crear un vector binario aleatorio (mismo tamaño que el cromosoma) que es el que utilizaremos en el cruce implementado que se explica a continuación."
      ]
    },
    {
      "cell_type": "markdown",
      "metadata": {
        "id": "3L7OY0Dr0MOG"
      },
      "source": [
        "## Mecanismo de cruce"
      ]
    },
    {
      "cell_type": "markdown",
      "metadata": {
        "id": "vmMDxyyA2ctC"
      },
      "source": [
        "Hemos implementado un cruce uniforme, ya que como hemos visto en teoría el cruce en un punto se utiliza más bien cuando los distintos elementos que componen el cromosoma tienen relación entre sí y afectan al resultado final (por ejemplo, en el problema del viajante donde se representa el orden de visita de cada ciudad y este orden es importante). Por tanto, a la hora de cruzar dos individuos simplemente miramos el vector aleatorio para el cruce que teníamos generado y cada vez que aparezca un 1, cambiamos ese bit del individuo por el del otro individuo, y lo mismo con el otro, generando 2 descendientes que forman parte de la población. Por ejemplo:\n",
        "\n",
        "Individuo 1 --> 10011\n",
        "\n",
        "Individuo 2 --> 00111\n",
        "\n",
        "Vector cruce -> 10101\n",
        "\n",
        "*   Descendiente 1 --> 00111\n",
        "*   Descendiente 2 --> 10011\n",
        "\n",
        "\n",
        "Destacar que este cruce se aplica a cada regla del individuo, pero como ambos pueden tener diferente número de reglas, se va a aplicar a las primeras *r* reglas de ambos individuos, siendo *r* el total de reglas del individuo que menos tenga.\n",
        "\n",
        "\n",
        "Para elegir qué dos individuos cruzar, vamos recorriendo la población y cruzamos proporcionalmente a *pCruce*, que es el hiperparámetro que determina la probabilidad de cruce. \n"
      ]
    },
    {
      "cell_type": "markdown",
      "metadata": {
        "id": "dr9goVrU0NrQ"
      },
      "source": [
        "## Mecanismo de mutación"
      ]
    },
    {
      "cell_type": "markdown",
      "metadata": {
        "id": "9OMYypPI7-Yp"
      },
      "source": [
        "Hemos implementado la mutación como un bit flip de cada bit de cada cromosoma de cada individuo de la población. Este bit flip es proporcional a la probabilidad de mutación que tenemos en el hiperparámetro *pMutacion*."
      ]
    },
    {
      "cell_type": "markdown",
      "metadata": {
        "id": "I-pnwtN70Pal"
      },
      "source": [
        "## Mecanismo de clasificación"
      ]
    },
    {
      "cell_type": "markdown",
      "metadata": {
        "id": "XrHb5oypZfjx"
      },
      "source": [
        "Para la clasificación vamos a reaprovechar la función *fitness* que hemos usado en el entrenamiento. Durante el entrenamiento calculábamos el fitness de cada individuo de la población para sacar el mejor individuo y realizar el proceso de selección proporcional a fitness, cruce, mutación y elitismo durante cada época, obteniendo el mejor individuo al final de todas. Para clasificación, en cambio, le pasaremos a la función *fitness* el mejor individuo que ya obtuvimos en clasificación, y además un parámetro para que la función devuelva las predicciones (porque, por defecto, esta devuelve el fitness del individuo recibido). Tenemos dos tipos de clasificaciones que explicaremos más adelante el motivo: una en la que si no coincide ninguna relga se predice una clase inválida (-1) y otra en la que se predice una clase aleatoria, y esto se realiza a través del parámetro *randomPred*."
      ]
    },
    {
      "cell_type": "markdown",
      "metadata": {
        "id": "WUvtxCJ-zUOq"
      },
      "source": [
        "# Resultados de clasficación titanic"
      ]
    },
    {
      "cell_type": "markdown",
      "metadata": {
        "id": "LKA8FdPvsaiZ"
      },
      "source": [
        "A continuación se pueden observar las ejecuciones de los algoritmos junto con el coste en segundos que tarda en realizarse cada uno."
      ]
    },
    {
      "cell_type": "markdown",
      "metadata": {
        "id": "xGKFS8NP_Gvj"
      },
      "source": [
        "##Sin predecir random"
      ]
    },
    {
      "cell_type": "code",
      "metadata": {
        "id": "Dc7Ld8pauCUG"
      },
      "source": [
        "from Datos import Datos\r\n",
        "import Clasificador  \r\n",
        "import EstrategiaParticionado\r\n",
        "import time\r\n",
        "\r\n",
        "dataset = Datos(\"titanic.data\", dtype={'Pclass':'object', 'Age':'object'})\r\n",
        "\r\n",
        "estrategia = EstrategiaParticionado.ValidacionSimple(30) # Itera 1 vez por defecto\r\n",
        "estrategia2 = EstrategiaParticionado.ValidacionCruzada() # k = 10 por defecto"
      ],
      "execution_count": null,
      "outputs": []
    },
    {
      "cell_type": "markdown",
      "metadata": {
        "id": "Ac3sdtEfu1aY"
      },
      "source": [
        "### Clasificadores con 3 reglas"
      ]
    },
    {
      "cell_type": "code",
      "metadata": {
        "id": "dKvoTOEFuGjS"
      },
      "source": [
        "clasificador31 = Clasificador.ClasificadorGenetico(3, 50, 100, dataset)\r\n",
        "\r\n",
        "clasificador32 = Clasificador.ClasificadorGenetico(3, 50, 200, dataset)\r\n",
        "\r\n",
        "clasificador33 = Clasificador.ClasificadorGenetico(3, 150, 100, dataset)\r\n",
        "\r\n",
        "clasificador34 = Clasificador.ClasificadorGenetico(3, 150, 200, dataset)"
      ],
      "execution_count": null,
      "outputs": []
    },
    {
      "cell_type": "markdown",
      "metadata": {
        "id": "p5joCV8_xJAb"
      },
      "source": [
        "#### Validación Simple"
      ]
    },
    {
      "cell_type": "code",
      "metadata": {
        "colab": {
          "base_uri": "https://localhost:8080/"
        },
        "id": "_DF7OclBv3AI",
        "outputId": "057fd2aa-5543-42a1-b5e0-f6fbbec4cb8d"
      },
      "source": [
        "tiempo_antes = time.time()\r\n",
        "errores31, matrizConfusion31 = clasificador31.validacion(estrategia,dataset,clasificador31)\r\n",
        "print(\"Clasificador 31 Simple tardó \" + str(time.time()-tiempo_antes))\r\n",
        "\r\n",
        "tiempo_antes = time.time()\r\n",
        "errores32, matrizConfusion32 = clasificador32.validacion(estrategia,dataset,clasificador32)\r\n",
        "print(\"Clasificador 32 Simple tardó \" + str(time.time()-tiempo_antes))\r\n",
        "\r\n",
        "tiempo_antes = time.time()\r\n",
        "errores33, matrizConfusion33 = clasificador33.validacion(estrategia,dataset,clasificador33)\r\n",
        "print(\"Clasificador 33 Simple tardó \" + str(time.time()-tiempo_antes))\r\n",
        "\r\n",
        "tiempo_antes = time.time()\r\n",
        "errores34, matrizConfusion34 = clasificador34.validacion(estrategia,dataset,clasificador34)\r\n",
        "print(\"Clasificador 34 Simple tardó \" + str(time.time()-tiempo_antes))"
      ],
      "execution_count": null,
      "outputs": [
        {
          "output_type": "stream",
          "text": [
            "Acaba el entrenamiento, score del mejor individuo: 0.5798090040927695\n",
            "Clasificador 31 Simple tardó 178.2608461380005\n",
            "Acaba el entrenamiento, score del mejor individuo: 0.5620736698499318\n",
            "Clasificador 32 Simple tardó 267.13381838798523\n",
            "Acaba el entrenamiento, score del mejor individuo: 0.5566166439290586\n",
            "Clasificador 33 Simple tardó 517.0377614498138\n",
            "Acaba el entrenamiento, score del mejor individuo: 0.6016371077762619\n",
            "Clasificador 34 Simple tardó 1061.385737657547\n"
          ],
          "name": "stdout"
        }
      ]
    },
    {
      "cell_type": "markdown",
      "metadata": {
        "id": "EukqlE2DxRCt"
      },
      "source": [
        "#### Validacion Cruzada"
      ]
    },
    {
      "cell_type": "code",
      "metadata": {
        "colab": {
          "base_uri": "https://localhost:8080/"
        },
        "id": "MfXKd2W8tYO4",
        "outputId": "785ade80-e9cd-4e7b-de92-6aab680acb06"
      },
      "source": [
        "tiempo_antes = time.time()\r\n",
        "errores31C, matrizConfusion31C = clasificador31.validacion(estrategia2,dataset,clasificador31)\r\n",
        "print(\"Clasificador 31 Cruzada tardó \" + str(time.time()-tiempo_antes))\r\n",
        "\r\n",
        "tiempo_antes = time.time()\r\n",
        "errores32C, matrizConfusion32C = clasificador32.validacion(estrategia2,dataset,clasificador32)\r\n",
        "print(\"Clasificador 32 Cruzada tardó \" + str(time.time()-tiempo_antes))\r\n",
        "\r\n",
        "tiempo_antes = time.time()\r\n",
        "errores33C, matrizConfusion33C = clasificador33.validacion(estrategia2,dataset,clasificador33)\r\n",
        "print(\"Clasificador 33 Cruzada tardó \" + str(time.time()-tiempo_antes))\r\n",
        "\r\n",
        "tiempo_antes = time.time()\r\n",
        "errores34C, matrizConfusion34C = clasificador34.validacion(estrategia2,dataset,clasificador34)\r\n",
        "print(\"Clasificador 34 Cruzada tardó \" + str(time.time()-tiempo_antes))"
      ],
      "execution_count": null,
      "outputs": [
        {
          "output_type": "stream",
          "text": [
            "Acaba el entrenamiento, score del mejor individuo: 0.4830148619957537\n",
            "Acaba el entrenamiento, score del mejor individuo: 0.5265392781316348\n",
            "Acaba el entrenamiento, score del mejor individuo: 0.5636942675159236\n",
            "Acaba el entrenamiento, score del mejor individuo: 0.5817409766454352\n",
            "Acaba el entrenamiento, score del mejor individuo: 0.5902335456475584\n",
            "Acaba el entrenamiento, score del mejor individuo: 0.6072186836518046\n",
            "Acaba el entrenamiento, score del mejor individuo: 0.5912951167728238\n",
            "Acaba el entrenamiento, score del mejor individuo: 0.5923566878980892\n",
            "Acaba el entrenamiento, score del mejor individuo: 0.6050955414012739\n",
            "Acaba el entrenamiento, score del mejor individuo: 0.5972222222222222\n",
            "Clasificador 31 Cruzada tardó 2330.932490825653\n",
            "Acaba el entrenamiento, score del mejor individuo: 0.5169851380042463\n",
            "Acaba el entrenamiento, score del mejor individuo: 0.5265392781316348\n",
            "Acaba el entrenamiento, score del mejor individuo: 0.5944798301486199\n",
            "Acaba el entrenamiento, score del mejor individuo: 0.6008492569002123\n",
            "Acaba el entrenamiento, score del mejor individuo: 0.5912951167728238\n",
            "Acaba el entrenamiento, score del mejor individuo: 0.5944798301486199\n",
            "Acaba el entrenamiento, score del mejor individuo: 0.5859872611464968\n",
            "Acaba el entrenamiento, score del mejor individuo: 0.5859872611464968\n",
            "Acaba el entrenamiento, score del mejor individuo: 0.5859872611464968\n",
            "Acaba el entrenamiento, score del mejor individuo: 0.5876068376068376\n",
            "Clasificador 32 Cruzada tardó 4334.154967069626\n",
            "Acaba el entrenamiento, score del mejor individuo: 0.5276008492569002\n",
            "Acaba el entrenamiento, score del mejor individuo: 0.5690021231422505\n",
            "Acaba el entrenamiento, score del mejor individuo: 0.5764331210191083\n",
            "Acaba el entrenamiento, score del mejor individuo: 0.5711252653927813\n",
            "Acaba el entrenamiento, score del mejor individuo: 0.5732484076433121\n",
            "Acaba el entrenamiento, score del mejor individuo: 0.5859872611464968\n",
            "Acaba el entrenamiento, score del mejor individuo: 0.5700636942675159\n",
            "Acaba el entrenamiento, score del mejor individuo: 0.5721868365180467\n",
            "Acaba el entrenamiento, score del mejor individuo: 0.5764331210191083\n",
            "Acaba el entrenamiento, score del mejor individuo: 0.5747863247863247\n",
            "Clasificador 33 Cruzada tardó 6955.026795864105\n",
            "Acaba el entrenamiento, score del mejor individuo: 0.5605095541401274\n",
            "Acaba el entrenamiento, score del mejor individuo: 0.5668789808917197\n",
            "Acaba el entrenamiento, score del mejor individuo: 0.5690021231422505\n",
            "Acaba el entrenamiento, score del mejor individuo: 0.6666666666666666\n",
            "Acaba el entrenamiento, score del mejor individuo: 0.7080679405520169\n",
            "Acaba el entrenamiento, score del mejor individuo: 0.7080679405520169\n",
            "Acaba el entrenamiento, score del mejor individuo: 0.7176220806794055\n",
            "Acaba el entrenamiento, score del mejor individuo: 0.7165605095541401\n",
            "Acaba el entrenamiento, score del mejor individuo: 0.7165605095541401\n",
            "Acaba el entrenamiento, score del mejor individuo: 0.7136752136752137\n",
            "Clasificador 34 Cruzada tardó 10474.928040742874\n"
          ],
          "name": "stdout"
        }
      ]
    },
    {
      "cell_type": "markdown",
      "metadata": {
        "id": "1CsJfrrHvEkB"
      },
      "source": [
        "### Clasificadores con 7 reglas"
      ]
    },
    {
      "cell_type": "code",
      "metadata": {
        "id": "QFi2EFeYvEkH"
      },
      "source": [
        "clasificador71 = Clasificador.ClasificadorGenetico(7, 50, 100, dataset)\r\n",
        "\r\n",
        "clasificador72 = Clasificador.ClasificadorGenetico(7, 50, 200, dataset)\r\n",
        "\r\n",
        "clasificador73 = Clasificador.ClasificadorGenetico(7, 150, 100, dataset)\r\n",
        "\r\n",
        "clasificador74 = Clasificador.ClasificadorGenetico(7, 150, 200, dataset)"
      ],
      "execution_count": null,
      "outputs": []
    },
    {
      "cell_type": "code",
      "metadata": {
        "id": "pHZHlUsEwRFX",
        "colab": {
          "base_uri": "https://localhost:8080/"
        },
        "outputId": "386b0826-2b87-468d-f7ed-730273b0fe3e"
      },
      "source": [
        "tiempo_antes = time.time()\r\n",
        "errores71, matrizConfusion71 = clasificador71.validacion(estrategia,dataset,clasificador71)\r\n",
        "print(\"Clasificador 71 Simple tardó \" + str(time.time()-tiempo_antes))\r\n",
        "\r\n",
        "tiempo_antes = time.time()\r\n",
        "errores72, matrizConfusion72 = clasificador72.validacion(estrategia,dataset,clasificador72)\r\n",
        "print(\"Clasificador 72 Simple tardó \" + str(time.time()-tiempo_antes))\r\n",
        "\r\n",
        "tiempo_antes = time.time()\r\n",
        "errores73, matrizConfusion73 = clasificador73.validacion(estrategia,dataset,clasificador73)\r\n",
        "print(\"Clasificador 73 Simple tardó \" + str(time.time()-tiempo_antes))\r\n",
        "\r\n",
        "tiempo_antes = time.time()\r\n",
        "errores74, matrizConfusion74 = clasificador74.validacion(estrategia,dataset,clasificador74)\r\n",
        "print(\"Clasificador 74 Simple tardó \" + str(time.time()-tiempo_antes))"
      ],
      "execution_count": null,
      "outputs": [
        {
          "output_type": "stream",
          "text": [
            "Acaba el entrenamiento, score del mejor individuo: 0.616643929058663\n",
            "Clasificador 71 Simple tardó 324.15988945961\n",
            "Acaba el entrenamiento, score del mejor individuo: 0.5907230559345157\n",
            "Clasificador 72 Simple tardó 462.3922426700592\n",
            "Acaba el entrenamiento, score del mejor individuo: 0.6903137789904502\n",
            "Clasificador 73 Simple tardó 1043.1368539333344\n",
            "Acaba el entrenamiento, score del mejor individuo: 0.635743519781719\n",
            "Clasificador 74 Simple tardó 2081.381721019745\n"
          ],
          "name": "stdout"
        }
      ]
    },
    {
      "cell_type": "markdown",
      "metadata": {
        "id": "KXVBQAD0vFnZ"
      },
      "source": [
        "### Clasificadores con 13 reglas"
      ]
    },
    {
      "cell_type": "code",
      "metadata": {
        "id": "9SXRAtIrvFna"
      },
      "source": [
        "clasificador131 = Clasificador.ClasificadorGenetico(13, 50, 100, dataset)\r\n",
        "\r\n",
        "clasificador132 = Clasificador.ClasificadorGenetico(13, 50, 200, dataset)\r\n",
        "\r\n",
        "clasificador133 = Clasificador.ClasificadorGenetico(13, 150, 100, dataset)\r\n",
        "\r\n",
        "clasificador134 = Clasificador.ClasificadorGenetico(13, 150, 200, dataset)"
      ],
      "execution_count": null,
      "outputs": []
    },
    {
      "cell_type": "code",
      "metadata": {
        "id": "A_e14faAw4qk",
        "colab": {
          "base_uri": "https://localhost:8080/"
        },
        "outputId": "c53f632a-7ce2-41a0-e1c2-c0a2e31e65c4"
      },
      "source": [
        "tiempo_antes = time.time()\r\n",
        "errores131, matrizConfusion131 = clasificador131.validacion(estrategia,dataset,clasificador131)\r\n",
        "print(\"Clasificador 131 Simple tardó \" + str(time.time()-tiempo_antes))\r\n",
        "\r\n",
        "tiempo_antes = time.time()\r\n",
        "errores132, matrizConfusion132 = clasificador132.validacion(estrategia,dataset,clasificador132)\r\n",
        "print(\"Clasificador 132 Simple tardó \" + str(time.time()-tiempo_antes))\r\n",
        "\r\n",
        "tiempo_antes = time.time()\r\n",
        "errores133, matrizConfusion133 = clasificador133.validacion(estrategia,dataset,clasificador133)\r\n",
        "print(\"Clasificador 133 Simple tardó \" + str(time.time()-tiempo_antes))\r\n",
        "\r\n",
        "tiempo_antes = time.time()\r\n",
        "errores134, matrizConfusion134 = clasificador134.validacion(estrategia,dataset,clasificador134)\r\n",
        "print(\"Clasificador 134 Simple tardó \" + str(time.time()-tiempo_antes))"
      ],
      "execution_count": null,
      "outputs": [
        {
          "output_type": "stream",
          "text": [
            "Acaba el entrenamiento, score del mejor individuo: 0.6439290586630286\n",
            "Clasificador 131 Simple tardó 597.6630783081055\n",
            "Acaba el entrenamiento, score del mejor individuo: 0.6412005457025921\n",
            "Clasificador 132 Simple tardó 1054.4726271629333\n",
            "Acaba el entrenamiento, score del mejor individuo: 0.6534788540245566\n",
            "Clasificador 133 Simple tardó 1443.9154906272888\n",
            "Acaba el entrenamiento, score del mejor individuo: 0.6821282401091405\n",
            "Clasificador 134 Simple tardó 3491.0055384635925\n"
          ],
          "name": "stdout"
        }
      ]
    },
    {
      "cell_type": "markdown",
      "metadata": {
        "id": "UhltO_2qdO72"
      },
      "source": [
        "## Predecir random"
      ]
    },
    {
      "cell_type": "markdown",
      "metadata": {
        "id": "vvchKDvjqAQr"
      },
      "source": [
        "Como veremos en el apartado de tic-tac-toe, hemos implementado otra clasificación que es prediciendo random. La explicaremos después."
      ]
    },
    {
      "cell_type": "code",
      "metadata": {
        "id": "U3ihZNRJdO8N"
      },
      "source": [
        "from Datos import Datos\r\n",
        "import Clasificador  \r\n",
        "import EstrategiaParticionado\r\n",
        "import time\r\n",
        "\r\n",
        "dataset = Datos(\"titanic.data\", dtype={'Pclass':'object', 'Age':'object'})\r\n",
        "\r\n",
        "estrategia = EstrategiaParticionado.ValidacionSimple(30) # Itera 1 vez por defecto"
      ],
      "execution_count": null,
      "outputs": []
    },
    {
      "cell_type": "markdown",
      "metadata": {
        "id": "pFw2CBc0dO8O"
      },
      "source": [
        "### Clasificadores con 3 reglas"
      ]
    },
    {
      "cell_type": "code",
      "metadata": {
        "id": "gBF2zrGAdO8O"
      },
      "source": [
        "clasificador31 = Clasificador.ClasificadorGenetico(3, 50, 100, dataset, randomPred=True)\r\n",
        "\r\n",
        "clasificador32 = Clasificador.ClasificadorGenetico(3, 50, 200, dataset, randomPred=True)\r\n",
        "\r\n",
        "clasificador33 = Clasificador.ClasificadorGenetico(3, 150, 100, dataset, randomPred=True)\r\n",
        "\r\n",
        "clasificador34 = Clasificador.ClasificadorGenetico(3, 150, 200, dataset, randomPred=True)"
      ],
      "execution_count": null,
      "outputs": []
    },
    {
      "cell_type": "code",
      "metadata": {
        "colab": {
          "base_uri": "https://localhost:8080/"
        },
        "id": "Z_CDvYt-dO8P",
        "outputId": "111366c1-6d56-4931-a5fb-79fa469e00f6"
      },
      "source": [
        "tiempo_antes = time.time()\r\n",
        "errores31, matrizConfusion31 = clasificador31.validacion(estrategia,dataset,clasificador31)\r\n",
        "print(\"Clasificador 31 Simple tardó \" + str(time.time()-tiempo_antes))\r\n",
        "\r\n",
        "tiempo_antes = time.time()\r\n",
        "errores32, matrizConfusion32 = clasificador32.validacion(estrategia,dataset,clasificador32)\r\n",
        "print(\"Clasificador 32 Simple tardó \" + str(time.time()-tiempo_antes))\r\n",
        "\r\n",
        "tiempo_antes = time.time()\r\n",
        "errores33, matrizConfusion33 = clasificador33.validacion(estrategia,dataset,clasificador33)\r\n",
        "print(\"Clasificador 33 Simple tardó \" + str(time.time()-tiempo_antes))\r\n",
        "\r\n",
        "tiempo_antes = time.time()\r\n",
        "errores34, matrizConfusion34 = clasificador34.validacion(estrategia,dataset,clasificador34)\r\n",
        "print(\"Clasificador 34 Simple tardó \" + str(time.time()-tiempo_antes))"
      ],
      "execution_count": null,
      "outputs": [
        {
          "output_type": "stream",
          "text": [
            "Acaba el entrenamiento, score del mejor individuo: 0.5320600272851296\n",
            "Clasificador 31 Simple tardó 207.3415219783783\n",
            "Acaba el entrenamiento, score del mejor individuo: 0.5839017735334243\n",
            "Clasificador 32 Simple tardó 433.05172657966614\n",
            "Acaba el entrenamiento, score del mejor individuo: 0.5934515688949522\n",
            "Clasificador 33 Simple tardó 646.1283495426178\n",
            "Acaba el entrenamiento, score del mejor individuo: 0.5811732605729877\n",
            "Clasificador 34 Simple tardó 977.5518755912781\n"
          ],
          "name": "stdout"
        }
      ]
    },
    {
      "cell_type": "markdown",
      "metadata": {
        "id": "anIFPMWVdO8W"
      },
      "source": [
        "### Clasificadores con 7 reglas"
      ]
    },
    {
      "cell_type": "code",
      "metadata": {
        "id": "8DEdccK9dO8X"
      },
      "source": [
        "clasificador71 = Clasificador.ClasificadorGenetico(7, 50, 100, dataset, randomPred=True)\r\n",
        "\r\n",
        "clasificador72 = Clasificador.ClasificadorGenetico(7, 50, 200, dataset, randomPred=True)\r\n",
        "\r\n",
        "clasificador73 = Clasificador.ClasificadorGenetico(7, 150, 100, dataset, randomPred=True)\r\n",
        "\r\n",
        "clasificador74 = Clasificador.ClasificadorGenetico(7, 150, 200, dataset, randomPred=True)"
      ],
      "execution_count": null,
      "outputs": []
    },
    {
      "cell_type": "code",
      "metadata": {
        "colab": {
          "base_uri": "https://localhost:8080/"
        },
        "id": "8oC8j9qodO8X",
        "outputId": "c01fd66c-020a-4008-aa3b-5b3f0ae5824a"
      },
      "source": [
        "tiempo_antes = time.time()\r\n",
        "errores71, matrizConfusion71 = clasificador71.validacion(estrategia,dataset,clasificador71)\r\n",
        "print(\"Clasificador 71 Simple tardó \" + str(time.time()-tiempo_antes))\r\n",
        "\r\n",
        "tiempo_antes = time.time()\r\n",
        "errores72, matrizConfusion72 = clasificador72.validacion(estrategia,dataset,clasificador72)\r\n",
        "print(\"Clasificador 72 Simple tardó \" + str(time.time()-tiempo_antes))\r\n",
        "\r\n",
        "tiempo_antes = time.time()\r\n",
        "errores73, matrizConfusion73 = clasificador73.validacion(estrategia,dataset,clasificador73)\r\n",
        "print(\"Clasificador 73 Simple tardó \" + str(time.time()-tiempo_antes))\r\n",
        "\r\n",
        "tiempo_antes = time.time()\r\n",
        "errores74, matrizConfusion74 = clasificador74.validacion(estrategia,dataset,clasificador74)\r\n",
        "print(\"Clasificador 74 Simple tardó \" + str(time.time()-tiempo_antes))"
      ],
      "execution_count": null,
      "outputs": [
        {
          "output_type": "stream",
          "text": [
            "Acaba el entrenamiento, score del mejor individuo: 0.6480218281036835\n",
            "Clasificador 71 Simple tardó 320.16743779182434\n",
            "Acaba el entrenamiento, score del mejor individuo: 0.5961800818553888\n",
            "Clasificador 72 Simple tardó 710.7448351383209\n",
            "Acaba el entrenamiento, score del mejor individuo: 0.6521145975443383\n",
            "Clasificador 73 Simple tardó 985.0365467071533\n",
            "Acaba el entrenamiento, score del mejor individuo: 0.654843110504775\n",
            "Clasificador 74 Simple tardó 2365.3612112998962\n"
          ],
          "name": "stdout"
        }
      ]
    },
    {
      "cell_type": "markdown",
      "metadata": {
        "id": "r41JWDHwdO8Z"
      },
      "source": [
        "### Clasificadores con 13 reglas"
      ]
    },
    {
      "cell_type": "code",
      "metadata": {
        "id": "8ESmk8zZdO8Z"
      },
      "source": [
        "clasificador131 = Clasificador.ClasificadorGenetico(13, 50, 100, dataset, randomPred=True)\r\n",
        "\r\n",
        "clasificador132 = Clasificador.ClasificadorGenetico(13, 50, 200, dataset, randomPred=True)\r\n",
        "\r\n",
        "clasificador133 = Clasificador.ClasificadorGenetico(13, 150, 100, dataset, randomPred=True)\r\n",
        "\r\n",
        "clasificador134 = Clasificador.ClasificadorGenetico(13, 150, 200, dataset, randomPred=True)"
      ],
      "execution_count": null,
      "outputs": []
    },
    {
      "cell_type": "code",
      "metadata": {
        "colab": {
          "base_uri": "https://localhost:8080/"
        },
        "id": "rskKJhBvdO8Z",
        "outputId": "808e5e33-07b3-4571-f25a-31575f79ce8b"
      },
      "source": [
        "tiempo_antes = time.time()\r\n",
        "errores131, matrizConfusion131 = clasificador131.validacion(estrategia,dataset,clasificador131)\r\n",
        "print(\"Clasificador 131 Simple tardó \" + str(time.time()-tiempo_antes))\r\n",
        "\r\n",
        "tiempo_antes = time.time()\r\n",
        "errores132, matrizConfusion132 = clasificador132.validacion(estrategia,dataset,clasificador132)\r\n",
        "print(\"Clasificador 132 Simple tardó \" + str(time.time()-tiempo_antes))\r\n",
        "\r\n",
        "tiempo_antes = time.time()\r\n",
        "errores133, matrizConfusion133 = clasificador133.validacion(estrategia,dataset,clasificador133)\r\n",
        "print(\"Clasificador 133 Simple tardó \" + str(time.time()-tiempo_antes))\r\n",
        "\r\n",
        "tiempo_antes = time.time()\r\n",
        "errores134, matrizConfusion134 = clasificador134.validacion(estrategia,dataset,clasificador134)\r\n",
        "print(\"Clasificador 134 Simple tardó \" + str(time.time()-tiempo_antes))"
      ],
      "execution_count": null,
      "outputs": [
        {
          "output_type": "stream",
          "text": [
            "Acaba el entrenamiento, score del mejor individuo: 0.6534788540245566\n",
            "Clasificador 131 Simple tardó 582.4685671329498\n",
            "Acaba el entrenamiento, score del mejor individuo: 0.6971350613915416\n",
            "Clasificador 132 Simple tardó 1127.6701345443726\n",
            "Acaba el entrenamiento, score del mejor individuo: 0.6753069577080492\n",
            "Clasificador 133 Simple tardó 1885.8419802188873\n",
            "Acaba el entrenamiento, score del mejor individuo: 0.6657571623465212\n",
            "Clasificador 134 Simple tardó 4133.26758813858\n"
          ],
          "name": "stdout"
        }
      ]
    },
    {
      "cell_type": "markdown",
      "metadata": {
        "id": "U5TXQ-SLgKTP"
      },
      "source": [
        "# Resultados de clasficación tic-tac-toe"
      ]
    },
    {
      "cell_type": "markdown",
      "metadata": {
        "id": "XU5zKvwrsTWx"
      },
      "source": [
        "A continuación se pueden observar las ejecuciones de los algoritmos junto con el coste en segundos que tarda en realizarse cada uno."
      ]
    },
    {
      "cell_type": "markdown",
      "metadata": {
        "id": "zTwqCtTP-ieg"
      },
      "source": [
        "## Sin predecir random"
      ]
    },
    {
      "cell_type": "code",
      "metadata": {
        "id": "dFr4r1KIgKTY"
      },
      "source": [
        "from Datos import Datos\r\n",
        "import Clasificador  \r\n",
        "import EstrategiaParticionado\r\n",
        "import time\r\n",
        "\r\n",
        "dataset = Datos(\"tic-tac-toe.data\")\r\n",
        "\r\n",
        "estrategia = EstrategiaParticionado.ValidacionSimple(30) # Itera 1 vez por defecto"
      ],
      "execution_count": null,
      "outputs": []
    },
    {
      "cell_type": "markdown",
      "metadata": {
        "id": "ZvHfERVfgKTa"
      },
      "source": [
        "### Clasificadores con 3 reglas"
      ]
    },
    {
      "cell_type": "code",
      "metadata": {
        "id": "yBNN0f7fgKTa"
      },
      "source": [
        "clasificador31 = Clasificador.ClasificadorGenetico(3, 50, 100, dataset)\r\n",
        "\r\n",
        "clasificador32 = Clasificador.ClasificadorGenetico(3, 50, 200, dataset)\r\n",
        "\r\n",
        "clasificador33 = Clasificador.ClasificadorGenetico(3, 150, 100, dataset)\r\n",
        "\r\n",
        "clasificador34 = Clasificador.ClasificadorGenetico(3, 150, 200, dataset)"
      ],
      "execution_count": null,
      "outputs": []
    },
    {
      "cell_type": "code",
      "metadata": {
        "colab": {
          "base_uri": "https://localhost:8080/"
        },
        "id": "y8SYfavJgKTb",
        "outputId": "041fa33c-1b5a-40b1-c71a-1cce1bc35893"
      },
      "source": [
        "tiempo_antes = time.time()\r\n",
        "errores31, matrizConfusion31 = clasificador31.validacion(estrategia,dataset,clasificador31)\r\n",
        "print(\"Clasificador 31 Simple tardó \" + str(time.time()-tiempo_antes))\r\n",
        "\r\n",
        "tiempo_antes = time.time()\r\n",
        "errores32, matrizConfusion32 = clasificador32.validacion(estrategia,dataset,clasificador32)\r\n",
        "print(\"Clasificador 32 Simple tardó \" + str(time.time()-tiempo_antes))\r\n",
        "\r\n",
        "tiempo_antes = time.time()\r\n",
        "errores33, matrizConfusion33 = clasificador33.validacion(estrategia,dataset,clasificador33)\r\n",
        "print(\"Clasificador 33 Simple tardó \" + str(time.time()-tiempo_antes))\r\n",
        "\r\n",
        "tiempo_antes = time.time()\r\n",
        "errores34, matrizConfusion34 = clasificador34.validacion(estrategia,dataset,clasificador34)\r\n",
        "print(\"Clasificador 34 Simple tardó \" + str(time.time()-tiempo_antes))"
      ],
      "execution_count": null,
      "outputs": [
        {
          "output_type": "stream",
          "text": [
            "Acaba el entrenamiento, score del mejor individuo: 0.20119225037257824\n",
            "Clasificador 31 Simple tardó 187.1016948223114\n",
            "Acaba el entrenamiento, score del mejor individuo: 0.08196721311475409\n",
            "Clasificador 32 Simple tardó 346.3542013168335\n",
            "Acaba el entrenamiento, score del mejor individuo: 0.17287630402384502\n",
            "Clasificador 33 Simple tardó 506.5715699195862\n",
            "Acaba el entrenamiento, score del mejor individuo: 0.11177347242921014\n",
            "Clasificador 34 Simple tardó 549.4467792510986\n"
          ],
          "name": "stdout"
        }
      ]
    },
    {
      "cell_type": "markdown",
      "metadata": {
        "id": "8O8gwfq6gKTm"
      },
      "source": [
        "### Clasificadores con 13 reglas"
      ]
    },
    {
      "cell_type": "code",
      "metadata": {
        "id": "4PLTXwd0gKTo"
      },
      "source": [
        "clasificador131 = Clasificador.ClasificadorGenetico(13, 50, 100, dataset)\r\n",
        "\r\n",
        "clasificador132 = Clasificador.ClasificadorGenetico(13, 50, 200, dataset)\r\n",
        "\r\n",
        "clasificador133 = Clasificador.ClasificadorGenetico(13, 150, 100, dataset)\r\n",
        "\r\n",
        "clasificador134 = Clasificador.ClasificadorGenetico(13, 150, 200, dataset)"
      ],
      "execution_count": null,
      "outputs": []
    },
    {
      "cell_type": "code",
      "metadata": {
        "colab": {
          "base_uri": "https://localhost:8080/"
        },
        "id": "FMee5fOIgKTo",
        "outputId": "1290c39c-3081-47bd-d9f5-2e3115aedc20"
      },
      "source": [
        "tiempo_antes = time.time()\r\n",
        "errores131, matrizConfusion131 = clasificador131.validacion(estrategia,dataset,clasificador131)\r\n",
        "print(\"Clasificador 131 Simple tardó \" + str(time.time()-tiempo_antes))\r\n",
        "\r\n",
        "tiempo_antes = time.time()\r\n",
        "errores132, matrizConfusion132 = clasificador132.validacion(estrategia,dataset,clasificador132)\r\n",
        "print(\"Clasificador 132 Simple tardó \" + str(time.time()-tiempo_antes))\r\n",
        "\r\n",
        "tiempo_antes = time.time()\r\n",
        "errores133, matrizConfusion133 = clasificador133.validacion(estrategia,dataset,clasificador133)\r\n",
        "print(\"Clasificador 133 Simple tardó \" + str(time.time()-tiempo_antes))\r\n",
        "\r\n",
        "tiempo_antes = time.time()\r\n",
        "errores134, matrizConfusion134 = clasificador134.validacion(estrategia,dataset,clasificador134)\r\n",
        "print(\"Clasificador 134 Simple tardó \" + str(time.time()-tiempo_antes))"
      ],
      "execution_count": null,
      "outputs": [
        {
          "output_type": "stream",
          "text": [
            "Acaba el entrenamiento, score del mejor individuo: 0.15350223546944858\n",
            "Clasificador 131 Simple tardó 410.55076789855957\n",
            "Acaba el entrenamiento, score del mejor individuo: 0.09687034277198212\n",
            "Clasificador 132 Simple tardó 985.3407771587372\n",
            "Acaba el entrenamiento, score del mejor individuo: 0.11773472429210134\n",
            "Clasificador 133 Simple tardó 1888.0668325424194\n",
            "Acaba el entrenamiento, score del mejor individuo: 0.13710879284649777\n",
            "Clasificador 134 Simple tardó 3680.617853164673\n"
          ],
          "name": "stdout"
        }
      ]
    },
    {
      "cell_type": "markdown",
      "metadata": {
        "id": "BpHY0WPbh1-e"
      },
      "source": [
        "### Clasificadores con 43 reglas"
      ]
    },
    {
      "cell_type": "code",
      "metadata": {
        "id": "M5-PGsvUh1-m"
      },
      "source": [
        "clasificador431 = Clasificador.ClasificadorGenetico(43, 50, 100, dataset)\r\n",
        "\r\n",
        "clasificador432 = Clasificador.ClasificadorGenetico(43, 50, 200, dataset)\r\n",
        "\r\n",
        "clasificador433 = Clasificador.ClasificadorGenetico(43, 150, 100, dataset)\r\n",
        "\r\n",
        "clasificador434 = Clasificador.ClasificadorGenetico(43, 150, 200, dataset)"
      ],
      "execution_count": null,
      "outputs": []
    },
    {
      "cell_type": "code",
      "metadata": {
        "colab": {
          "base_uri": "https://localhost:8080/",
          "height": 459
        },
        "id": "aedJ0zGfh1-w",
        "outputId": "5296a1d4-a802-422b-b7ef-2ab8f18a60af"
      },
      "source": [
        "tiempo_antes = time.time()\r\n",
        "errores431, matrizConfusion431 = clasificador431.validacion(estrategia,dataset,clasificador431)\r\n",
        "print(\"Clasificador 431 Simple tardó \" + str(time.time()-tiempo_antes))\r\n",
        "\r\n",
        "tiempo_antes = time.time()\r\n",
        "errores432, matrizConfusion432 = clasificador432.validacion(estrategia,dataset,clasificador432)\r\n",
        "print(\"Clasificador 432 Simple tardó \" + str(time.time()-tiempo_antes))\r\n",
        "\r\n",
        "tiempo_antes = time.time()\r\n",
        "errores433, matrizConfusion433 = clasificador433.validacion(estrategia,dataset,clasificador433)\r\n",
        "print(\"Clasificador 433 Simple tardó \" + str(time.time()-tiempo_antes))\r\n",
        "\r\n",
        "tiempo_antes = time.time()\r\n",
        "errores434, matrizConfusion434 = clasificador434.validacion(estrategia,dataset,clasificador434)\r\n",
        "print(\"Clasificador 434 Simple tardó \" + str(time.time()-tiempo_antes))"
      ],
      "execution_count": null,
      "outputs": [
        {
          "output_type": "stream",
          "text": [
            "Acaba el entrenamiento, score del mejor individuo: 0.15052160953800298\n",
            "Clasificador 431 Simple tardó 1400.5269463062286\n",
            "Acaba el entrenamiento, score del mejor individuo: 0.31892697466467956\n",
            "Clasificador 432 Simple tardó 3388.138780593872\n",
            "Acaba el entrenamiento, score del mejor individuo: 0.27421758569299554\n",
            "Clasificador 433 Simple tardó 5169.47149014473\n"
          ],
          "name": "stdout"
        },
        {
          "output_type": "error",
          "ename": "KeyboardInterrupt",
          "evalue": "ignored",
          "traceback": [
            "\u001b[0;31m---------------------------------------------------------------------------\u001b[0m",
            "\u001b[0;31mKeyboardInterrupt\u001b[0m                         Traceback (most recent call last)",
            "\u001b[0;32m<ipython-input-13-71601aa3aa46>\u001b[0m in \u001b[0;36m<module>\u001b[0;34m()\u001b[0m\n\u001b[1;32m     12\u001b[0m \u001b[0;34m\u001b[0m\u001b[0m\n\u001b[1;32m     13\u001b[0m \u001b[0mtiempo_antes\u001b[0m \u001b[0;34m=\u001b[0m \u001b[0mtime\u001b[0m\u001b[0;34m.\u001b[0m\u001b[0mtime\u001b[0m\u001b[0;34m(\u001b[0m\u001b[0;34m)\u001b[0m\u001b[0;34m\u001b[0m\u001b[0;34m\u001b[0m\u001b[0m\n\u001b[0;32m---> 14\u001b[0;31m \u001b[0merrores434\u001b[0m\u001b[0;34m,\u001b[0m \u001b[0mmatrizConfusion434\u001b[0m \u001b[0;34m=\u001b[0m \u001b[0mclasificador434\u001b[0m\u001b[0;34m.\u001b[0m\u001b[0mvalidacion\u001b[0m\u001b[0;34m(\u001b[0m\u001b[0mestrategia\u001b[0m\u001b[0;34m,\u001b[0m\u001b[0mdataset\u001b[0m\u001b[0;34m,\u001b[0m\u001b[0mclasificador434\u001b[0m\u001b[0;34m)\u001b[0m\u001b[0;34m\u001b[0m\u001b[0;34m\u001b[0m\u001b[0m\n\u001b[0m\u001b[1;32m     15\u001b[0m \u001b[0mprint\u001b[0m\u001b[0;34m(\u001b[0m\u001b[0;34m\"Clasificador 434 Simple tardó \"\u001b[0m \u001b[0;34m+\u001b[0m \u001b[0mstr\u001b[0m\u001b[0;34m(\u001b[0m\u001b[0mtime\u001b[0m\u001b[0;34m.\u001b[0m\u001b[0mtime\u001b[0m\u001b[0;34m(\u001b[0m\u001b[0;34m)\u001b[0m\u001b[0;34m-\u001b[0m\u001b[0mtiempo_antes\u001b[0m\u001b[0;34m)\u001b[0m\u001b[0;34m)\u001b[0m\u001b[0;34m\u001b[0m\u001b[0;34m\u001b[0m\u001b[0m\n",
            "\u001b[0;32m/content/Clasificador.py\u001b[0m in \u001b[0;36mvalidacion\u001b[0;34m(self, particionado, dataset, clasificador, seed)\u001b[0m\n\u001b[1;32m     81\u001b[0m       \u001b[0mdatosTest\u001b[0m \u001b[0;34m=\u001b[0m \u001b[0mdataset\u001b[0m\u001b[0;34m.\u001b[0m\u001b[0mextraeDatos\u001b[0m\u001b[0;34m(\u001b[0m\u001b[0mi\u001b[0m\u001b[0;34m.\u001b[0m\u001b[0mindicesTest\u001b[0m\u001b[0;34m)\u001b[0m\u001b[0;34m\u001b[0m\u001b[0;34m\u001b[0m\u001b[0m\n\u001b[1;32m     82\u001b[0m \u001b[0;34m\u001b[0m\u001b[0m\n\u001b[0;32m---> 83\u001b[0;31m       \u001b[0mclasificador\u001b[0m\u001b[0;34m.\u001b[0m\u001b[0mentrenamiento\u001b[0m\u001b[0;34m(\u001b[0m\u001b[0mdatosTrain\u001b[0m\u001b[0;34m,\u001b[0m \u001b[0mdataset\u001b[0m\u001b[0;34m.\u001b[0m\u001b[0mnominalAtributos\u001b[0m\u001b[0;34m,\u001b[0m \u001b[0mdataset\u001b[0m\u001b[0;34m.\u001b[0m\u001b[0mdiccionario\u001b[0m\u001b[0;34m)\u001b[0m\u001b[0;34m\u001b[0m\u001b[0;34m\u001b[0m\u001b[0m\n\u001b[0m\u001b[1;32m     84\u001b[0m       \u001b[0mpredicciones\u001b[0m \u001b[0;34m=\u001b[0m \u001b[0mclasificador\u001b[0m\u001b[0;34m.\u001b[0m\u001b[0mclasifica\u001b[0m\u001b[0;34m(\u001b[0m\u001b[0mdatosTest\u001b[0m\u001b[0;34m,\u001b[0m \u001b[0mdataset\u001b[0m\u001b[0;34m.\u001b[0m\u001b[0mnominalAtributos\u001b[0m\u001b[0;34m,\u001b[0m \u001b[0mdataset\u001b[0m\u001b[0;34m.\u001b[0m\u001b[0mdiccionario\u001b[0m\u001b[0;34m)\u001b[0m\u001b[0;34m\u001b[0m\u001b[0;34m\u001b[0m\u001b[0m\n\u001b[1;32m     85\u001b[0m \u001b[0;34m\u001b[0m\u001b[0m\n",
            "\u001b[0;32m/content/Clasificador.py\u001b[0m in \u001b[0;36mentrenamiento\u001b[0;34m(self, datostrain, atributosDiscretos, diccionario)\u001b[0m\n\u001b[1;32m    467\u001b[0m       \u001b[0msumaFitness\u001b[0m \u001b[0;34m=\u001b[0m \u001b[0;36m0\u001b[0m\u001b[0;34m\u001b[0m\u001b[0;34m\u001b[0m\u001b[0m\n\u001b[1;32m    468\u001b[0m       \u001b[0;32mfor\u001b[0m \u001b[0mindividuo\u001b[0m \u001b[0;32min\u001b[0m \u001b[0mself\u001b[0m\u001b[0;34m.\u001b[0m\u001b[0mpoblacion\u001b[0m\u001b[0;34m:\u001b[0m\u001b[0;34m\u001b[0m\u001b[0;34m\u001b[0m\u001b[0m\n\u001b[0;32m--> 469\u001b[0;31m         \u001b[0mfitnessIndividuo\u001b[0m \u001b[0;34m=\u001b[0m \u001b[0mself\u001b[0m\u001b[0;34m.\u001b[0m\u001b[0mfitness\u001b[0m\u001b[0;34m(\u001b[0m\u001b[0mdatostrain\u001b[0m\u001b[0;34m,\u001b[0m \u001b[0mdiccionario\u001b[0m\u001b[0;34m,\u001b[0m \u001b[0mindividuo\u001b[0m\u001b[0;34m)\u001b[0m\u001b[0;34m\u001b[0m\u001b[0;34m\u001b[0m\u001b[0m\n\u001b[0m\u001b[1;32m    470\u001b[0m         \u001b[0msumaFitness\u001b[0m \u001b[0;34m+=\u001b[0m \u001b[0mfitnessIndividuo\u001b[0m\u001b[0;34m\u001b[0m\u001b[0;34m\u001b[0m\u001b[0m\n\u001b[1;32m    471\u001b[0m         \u001b[0;31m# Se guarda tupla fitness - individuo\u001b[0m\u001b[0;34m\u001b[0m\u001b[0;34m\u001b[0m\u001b[0;34m\u001b[0m\u001b[0m\n",
            "\u001b[0;32m/content/Clasificador.py\u001b[0m in \u001b[0;36mfitness\u001b[0;34m(self, datos, diccionario, individuo, predicciones)\u001b[0m\n\u001b[1;32m    426\u001b[0m           \u001b[0mlongitudAtr\u001b[0m \u001b[0;34m=\u001b[0m \u001b[0mlen\u001b[0m\u001b[0;34m(\u001b[0m\u001b[0mvalue\u001b[0m\u001b[0;34m)\u001b[0m\u001b[0;34m\u001b[0m\u001b[0;34m\u001b[0m\u001b[0m\n\u001b[1;32m    427\u001b[0m           \u001b[0mcomparacion\u001b[0m \u001b[0;34m=\u001b[0m \u001b[0mfila\u001b[0m\u001b[0;34m[\u001b[0m\u001b[0mlimInfRango\u001b[0m\u001b[0;34m:\u001b[0m\u001b[0mlongitudAtr\u001b[0m\u001b[0;34m+\u001b[0m\u001b[0mlimInfRango\u001b[0m\u001b[0;34m]\u001b[0m \u001b[0;34m&\u001b[0m \u001b[0mregla\u001b[0m\u001b[0;34m[\u001b[0m\u001b[0mlimInfRango\u001b[0m\u001b[0;34m:\u001b[0m\u001b[0mlongitudAtr\u001b[0m\u001b[0;34m+\u001b[0m\u001b[0mlimInfRango\u001b[0m\u001b[0;34m]\u001b[0m\u001b[0;34m\u001b[0m\u001b[0;34m\u001b[0m\u001b[0m\n\u001b[0;32m--> 428\u001b[0;31m           \u001b[0;32mif\u001b[0m\u001b[0;34m(\u001b[0m\u001b[0;36m1\u001b[0m \u001b[0;32mnot\u001b[0m \u001b[0;32min\u001b[0m \u001b[0mcomparacion\u001b[0m\u001b[0;34m)\u001b[0m\u001b[0;34m:\u001b[0m\u001b[0;34m\u001b[0m\u001b[0;34m\u001b[0m\u001b[0m\n\u001b[0m\u001b[1;32m    429\u001b[0m             \u001b[0;32mbreak\u001b[0m\u001b[0;34m\u001b[0m\u001b[0;34m\u001b[0m\u001b[0m\n\u001b[1;32m    430\u001b[0m \u001b[0;34m\u001b[0m\u001b[0m\n",
            "\u001b[0;31mKeyboardInterrupt\u001b[0m: "
          ]
        }
      ]
    },
    {
      "cell_type": "markdown",
      "metadata": {
        "id": "G3suN_lcvh4d"
      },
      "source": [
        "## Predecir random"
      ]
    },
    {
      "cell_type": "markdown",
      "metadata": {
        "id": "37VKTuDGvmL6"
      },
      "source": [
        "Viendo lo malo que ha sido el algoritmo anterior para Tic-tac-toe, hemos decidido modificar nuestra implementación y a la hora de predecir si no cumple las reglas, el algoritmo devolverá una clase random entre las clases válidas en vez de una clase invalida"
      ]
    },
    {
      "cell_type": "code",
      "metadata": {
        "id": "fiMnqsQovh4k"
      },
      "source": [
        "from Datos import Datos\r\n",
        "import Clasificador  \r\n",
        "import EstrategiaParticionado\r\n",
        "import time\r\n",
        "\r\n",
        "dataset = Datos(\"tic-tac-toe.data\")\r\n",
        "\r\n",
        "estrategia = EstrategiaParticionado.ValidacionSimple(30) # Itera 1 vez por defecto"
      ],
      "execution_count": null,
      "outputs": []
    },
    {
      "cell_type": "markdown",
      "metadata": {
        "id": "ClEJS5Xqvh4l"
      },
      "source": [
        "### Clasificadores con 3 reglas"
      ]
    },
    {
      "cell_type": "code",
      "metadata": {
        "id": "k2Hlx8YTvh4l"
      },
      "source": [
        "clasificador31 = Clasificador.ClasificadorGenetico(3, 50, 100, dataset, randomPred=True)\r\n",
        "\r\n",
        "clasificador32 = Clasificador.ClasificadorGenetico(3, 50, 200, dataset, randomPred=True)\r\n",
        "\r\n",
        "clasificador33 = Clasificador.ClasificadorGenetico(3, 150, 100, dataset, randomPred=True)\r\n",
        "\r\n",
        "clasificador34 = Clasificador.ClasificadorGenetico(3, 150, 200, dataset, randomPred=True)"
      ],
      "execution_count": null,
      "outputs": []
    },
    {
      "cell_type": "code",
      "metadata": {
        "colab": {
          "base_uri": "https://localhost:8080/"
        },
        "id": "k5sJe9x0vh4m",
        "outputId": "13999d2e-a2e5-4b2f-d6a9-007256554b2b"
      },
      "source": [
        "tiempo_antes = time.time()\r\n",
        "errores31, matrizConfusion31 = clasificador31.validacion(estrategia,dataset,clasificador31)\r\n",
        "print(\"Clasificador 31 Simple tardó \" + str(time.time()-tiempo_antes))\r\n",
        "\r\n",
        "tiempo_antes = time.time()\r\n",
        "errores32, matrizConfusion32 = clasificador32.validacion(estrategia,dataset,clasificador32)\r\n",
        "print(\"Clasificador 32 Simple tardó \" + str(time.time()-tiempo_antes))\r\n",
        "\r\n",
        "tiempo_antes = time.time()\r\n",
        "errores33, matrizConfusion33 = clasificador33.validacion(estrategia,dataset,clasificador33)\r\n",
        "print(\"Clasificador 33 Simple tardó \" + str(time.time()-tiempo_antes))\r\n",
        "\r\n",
        "tiempo_antes = time.time()\r\n",
        "errores34, matrizConfusion34 = clasificador34.validacion(estrategia,dataset,clasificador34)\r\n",
        "print(\"Clasificador 34 Simple tardó \" + str(time.time()-tiempo_antes))"
      ],
      "execution_count": null,
      "outputs": [
        {
          "output_type": "stream",
          "text": [
            "Acaba el entrenamiento, score del mejor individuo: 0.05365126676602087\n",
            "Clasificador 31 Simple tardó 184.0105574131012\n",
            "Acaba el entrenamiento, score del mejor individuo: 0.03576751117734724\n",
            "Clasificador 32 Simple tardó 186.9623191356659\n",
            "Acaba el entrenamiento, score del mejor individuo: 0.09239940387481371\n",
            "Clasificador 33 Simple tardó 469.5943820476532\n",
            "Acaba el entrenamiento, score del mejor individuo: 0.12220566318926974\n",
            "Clasificador 34 Simple tardó 801.6632101535797\n"
          ],
          "name": "stdout"
        }
      ]
    },
    {
      "cell_type": "markdown",
      "metadata": {
        "id": "L1_PDoFavh4o"
      },
      "source": [
        "### Clasificadores con 7 reglas"
      ]
    },
    {
      "cell_type": "code",
      "metadata": {
        "id": "b27cvQEXvh4p"
      },
      "source": [
        "clasificador71 = Clasificador.ClasificadorGenetico(7, 50, 100, dataset, randomPred=True)\r\n",
        "\r\n",
        "clasificador72 = Clasificador.ClasificadorGenetico(7, 50, 200, dataset, randomPred=True)\r\n",
        "\r\n",
        "clasificador73 = Clasificador.ClasificadorGenetico(7, 150, 100, dataset, randomPred=True)\r\n",
        "\r\n",
        "clasificador74 = Clasificador.ClasificadorGenetico(7, 150, 200, dataset, randomPred=True)"
      ],
      "execution_count": null,
      "outputs": []
    },
    {
      "cell_type": "code",
      "metadata": {
        "colab": {
          "base_uri": "https://localhost:8080/"
        },
        "id": "dbyxNFE4vh4p",
        "outputId": "41b94e70-d638-47cb-84b9-9a9b5e6befec"
      },
      "source": [
        "tiempo_antes = time.time()\r\n",
        "errores71, matrizConfusion71 = clasificador71.validacion(estrategia,dataset,clasificador71)\r\n",
        "print(\"Clasificador 71 Simple tardó \" + str(time.time()-tiempo_antes))\r\n",
        "\r\n",
        "tiempo_antes = time.time()\r\n",
        "errores72, matrizConfusion72 = clasificador72.validacion(estrategia,dataset,clasificador72)\r\n",
        "print(\"Clasificador 72 Simple tardó \" + str(time.time()-tiempo_antes))\r\n",
        "\r\n",
        "tiempo_antes = time.time()\r\n",
        "errores73, matrizConfusion73 = clasificador73.validacion(estrategia,dataset,clasificador73)\r\n",
        "print(\"Clasificador 73 Simple tardó \" + str(time.time()-tiempo_antes))\r\n",
        "\r\n",
        "tiempo_antes = time.time()\r\n",
        "errores74, matrizConfusion74 = clasificador74.validacion(estrategia,dataset,clasificador74)\r\n",
        "print(\"Clasificador 74 Simple tardó \" + str(time.time()-tiempo_antes))"
      ],
      "execution_count": null,
      "outputs": [
        {
          "output_type": "stream",
          "text": [
            "Acaba el entrenamiento, score del mejor individuo: 0.08643815201192251\n",
            "Clasificador 71 Simple tardó 308.263432264328\n",
            "Acaba el entrenamiento, score del mejor individuo: 0.10730253353204174\n",
            "Clasificador 72 Simple tardó 537.9605011940002\n",
            "Acaba el entrenamiento, score del mejor individuo: 0.09090909090909091\n",
            "Clasificador 73 Simple tardó 875.7791185379028\n",
            "Acaba el entrenamiento, score del mejor individuo: 0.14307004470938897\n",
            "Clasificador 74 Simple tardó 1539.8544764518738\n"
          ],
          "name": "stdout"
        }
      ]
    },
    {
      "cell_type": "markdown",
      "metadata": {
        "id": "LifoNRoMvh4n"
      },
      "source": [
        "### Clasificadores con 13 reglas"
      ]
    },
    {
      "cell_type": "code",
      "metadata": {
        "id": "GIJEiO6Fvh4n"
      },
      "source": [
        "clasificador131 = Clasificador.ClasificadorGenetico(13, 50, 100, dataset, randomPred=True)\r\n",
        "\r\n",
        "clasificador132 = Clasificador.ClasificadorGenetico(13, 50, 200, dataset, randomPred=True)\r\n",
        "\r\n",
        "clasificador133 = Clasificador.ClasificadorGenetico(13, 150, 100, dataset, randomPred=True)\r\n",
        "\r\n",
        "clasificador134 = Clasificador.ClasificadorGenetico(13, 150, 200, dataset, randomPred=True)"
      ],
      "execution_count": null,
      "outputs": []
    },
    {
      "cell_type": "code",
      "metadata": {
        "colab": {
          "base_uri": "https://localhost:8080/"
        },
        "id": "pS2lFibdvh4o",
        "outputId": "2443200d-19ca-442a-c39d-f3bf9938316c"
      },
      "source": [
        "tiempo_antes = time.time()\r\n",
        "errores131, matrizConfusion131 = clasificador131.validacion(estrategia,dataset,clasificador131)\r\n",
        "print(\"Clasificador 131 Simple tardó \" + str(time.time()-tiempo_antes))\r\n",
        "\r\n",
        "tiempo_antes = time.time()\r\n",
        "errores132, matrizConfusion132 = clasificador132.validacion(estrategia,dataset,clasificador132)\r\n",
        "print(\"Clasificador 132 Simple tardó \" + str(time.time()-tiempo_antes))\r\n",
        "\r\n",
        "tiempo_antes = time.time()\r\n",
        "errores133, matrizConfusion133 = clasificador133.validacion(estrategia,dataset,clasificador133)\r\n",
        "print(\"Clasificador 133 Simple tardó \" + str(time.time()-tiempo_antes))\r\n",
        "\r\n",
        "tiempo_antes = time.time()\r\n",
        "errores134, matrizConfusion134 = clasificador134.validacion(estrategia,dataset,clasificador134)\r\n",
        "print(\"Clasificador 134 Simple tardó \" + str(time.time()-tiempo_antes))"
      ],
      "execution_count": null,
      "outputs": [
        {
          "output_type": "stream",
          "text": [
            "Acaba el entrenamiento, score del mejor individuo: 0.23695976154992549\n",
            "Clasificador 131 Simple tardó 457.49097537994385\n",
            "Acaba el entrenamiento, score del mejor individuo: 0.10879284649776454\n",
            "Clasificador 132 Simple tardó 890.5195300579071\n",
            "Acaba el entrenamiento, score del mejor individuo: 0.11028315946348734\n",
            "Clasificador 133 Simple tardó 1679.1083426475525\n",
            "Acaba el entrenamiento, score del mejor individuo: 0.11922503725782414\n",
            "Clasificador 134 Simple tardó 3434.4046149253845\n"
          ],
          "name": "stdout"
        }
      ]
    },
    {
      "cell_type": "markdown",
      "metadata": {
        "id": "YMQm9AGUzW-f"
      },
      "source": [
        "# Análisis de resultados titanic"
      ]
    },
    {
      "cell_type": "markdown",
      "metadata": {
        "id": "ZbOkG7OGCoOb"
      },
      "source": [
        "### Sin predecir random\r\n"
      ]
    },
    {
      "cell_type": "code",
      "metadata": {
        "id": "kmK6R54qebKT",
        "colab": {
          "base_uri": "https://localhost:8080/"
        },
        "outputId": "d552dd2d-1943-444b-e032-90974d457755"
      },
      "source": [
        "from tabulate import tabulate\n",
        "import numpy as np\n",
        "\n",
        "print()\n",
        "print(\"\\033[1mErrores validación simple\\033[0m\")\n",
        "# Obtiene media y desviación típica de los errores\n",
        "print (tabulate([[\"Población 50 y 100 Epocas\", \n",
        "                   str(\"{0:.4f}\".format(np.mean(errores31)))+\" ± \"+str(\"{0:.4f}\".format(np.std(errores31))),\n",
        "                   str(\"{0:.4f}\".format(np.mean(errores71)))+\" ± \"+str(\"{0:.4f}\".format(np.std(errores71))),\n",
        "                   str(\"{0:.4f}\".format(np.mean(errores131)))+\" ± \"+str(\"{0:.4f}\".format(np.std(errores131)))],\n",
        "                 [\"Población 50 y 200 Epocas\", \n",
        "                   str(\"{0:.4f}\".format(np.mean(errores32)))+\" ± \"+str(\"{0:.4f}\".format(np.std(errores32))),\n",
        "                   str(\"{0:.4f}\".format(np.mean(errores72)))+\" ± \"+str(\"{0:.4f}\".format(np.std(errores72))),\n",
        "                   str(\"{0:.4f}\".format(np.mean(errores132)))+\" ± \"+str(\"{0:.4f}\".format(np.std(errores132)))],\n",
        "                 [\"Población 150 y 100 Epocas\", \n",
        "                   str(\"{0:.4f}\".format(np.mean(errores33)))+\" ± \"+str(\"{0:.4f}\".format(np.std(errores33))),\n",
        "                   str(\"{0:.4f}\".format(np.mean(errores73)))+\" ± \"+str(\"{0:.4f}\".format(np.std(errores73))),\n",
        "                   str(\"{0:.4f}\".format(np.mean(errores133)))+\" ± \"+str(\"{0:.4f}\".format(np.std(errores133)))],\n",
        "                 [\"Población 150 y 200 Epocas\", \n",
        "                   str(\"{0:.4f}\".format(np.mean(errores34)))+\" ± \"+str(\"{0:.4f}\".format(np.std(errores34))),\n",
        "                   str(\"{0:.4f}\".format(np.mean(errores74)))+\" ± \"+str(\"{0:.4f}\".format(np.std(errores74))),\n",
        "                   str(\"{0:.4f}\".format(np.mean(errores134)))+\" ± \"+str(\"{0:.4f}\".format(np.std(errores134)))]],\n",
        "                [\"\", \"3 Reglas\", \"7 Reglas\", \"13 Reglas\"], \n",
        "                tablefmt=\"fancy_grid\"))"
      ],
      "execution_count": null,
      "outputs": [
        {
          "output_type": "stream",
          "text": [
            "\n",
            "\u001b[1mErrores validación simple\u001b[0m\n",
            "╒════════════════════════════╤═════════════════╤═════════════════╤═════════════════╕\n",
            "│                            │ 3 Reglas        │ 7 Reglas        │ 13 Reglas       │\n",
            "╞════════════════════════════╪═════════════════╪═════════════════╪═════════════════╡\n",
            "│ Población 50 y 100 Epocas  │ 0.4409 ± 0.0000 │ 0.3450 ± 0.0000 │ 0.3259 ± 0.0000 │\n",
            "├────────────────────────────┼─────────────────┼─────────────────┼─────────────────┤\n",
            "│ Población 50 y 200 Epocas  │ 0.5112 ± 0.0000 │ 0.3962 ± 0.0000 │ 0.2971 ± 0.0000 │\n",
            "├────────────────────────────┼─────────────────┼─────────────────┼─────────────────┤\n",
            "│ Población 150 y 100 Epocas │ 0.4792 ± 0.0000 │ 0.2971 ± 0.0000 │ 0.3514 ± 0.0000 │\n",
            "├────────────────────────────┼─────────────────┼─────────────────┼─────────────────┤\n",
            "│ Población 150 y 200 Epocas │ 0.3387 ± 0.0000 │ 0.3930 ± 0.0000 │ 0.3067 ± 0.0000 │\n",
            "╘════════════════════════════╧═════════════════╧═════════════════╧═════════════════╛\n"
          ],
          "name": "stdout"
        }
      ]
    },
    {
      "cell_type": "markdown",
      "metadata": {
        "id": "e-mdAtKlW-vM"
      },
      "source": [
        "Primero destacar que, como observamos para 3 reglas en los resultados de clasificación del apartado anterior, hemos probado tanto con validación simple como con validación cruzada y ambas parecían dar resultados similares, por lo que para tan alto grado computacional que conlleva validación cruzada hemos decidido continuar unicamente con validación simple.\r\n",
        "\r\n",
        "El menor error lo encontramos en 7 reglas con una población de 150 individuos y 100 épocas y con 13 reglas y una población de 50 individuos y 200 épocas. Por lo tanto, observamos que el número de reglas, el tamaño de la población y las épocas pueden influir positivamente a los resultados y que, al tener una gran carga aleatoria, pueden no darnos mejores resultados. Destacar que el coste computacional, como observamos en la creación de los individuos, se eleva bastante. \r\n",
        "    \r\n",
        "Observamos que el individuo que tiene mejor fitness en train, puede o no ser el que mejor resultados de a la hora de hacer validación, como observamos para el caso con 7 reglas: el clasificador que cogemos con los hiperparámetros 50 individuos y 100 épocas es el que mejor fitness da en entrenamiento y el que menor error tiene al validar, pero con 13 reglas el clasificador escogido es justo al contrario, tiene peor fitness que sus hermanos clasificadores con 13 reglas, pero al validar es el que menor error tiene.  "
      ]
    },
    {
      "cell_type": "markdown",
      "metadata": {
        "id": "XFAfHncDC6Ty"
      },
      "source": [
        "### Predecir random\r\n"
      ]
    },
    {
      "cell_type": "code",
      "metadata": {
        "colab": {
          "base_uri": "https://localhost:8080/"
        },
        "id": "bXuS6T06C6T4",
        "outputId": "6745aefe-3f46-41ec-b518-7117e0ca03e8"
      },
      "source": [
        "from tabulate import tabulate\n",
        "import numpy as np\n",
        "\n",
        "print()\n",
        "print(\"\\033[1mErrores validación simple\\033[0m\")\n",
        "# Obtiene media y desviación típica de los errores\n",
        "print (tabulate([[\"Población 50 y 100 Epocas\", \n",
        "                   str(\"{0:.4f}\".format(np.mean(errores31)))+\" ± \"+str(\"{0:.4f}\".format(np.std(errores31))),\n",
        "                   str(\"{0:.4f}\".format(np.mean(errores71)))+\" ± \"+str(\"{0:.4f}\".format(np.std(errores71))),\n",
        "                   str(\"{0:.4f}\".format(np.mean(errores131)))+\" ± \"+str(\"{0:.4f}\".format(np.std(errores131)))],\n",
        "                 [\"Población 50 y 200 Epocas\", \n",
        "                   str(\"{0:.4f}\".format(np.mean(errores32)))+\" ± \"+str(\"{0:.4f}\".format(np.std(errores32))),\n",
        "                   str(\"{0:.4f}\".format(np.mean(errores72)))+\" ± \"+str(\"{0:.4f}\".format(np.std(errores72))),\n",
        "                   str(\"{0:.4f}\".format(np.mean(errores132)))+\" ± \"+str(\"{0:.4f}\".format(np.std(errores132)))],\n",
        "                 [\"Población 150 y 100 Epocas\", \n",
        "                   str(\"{0:.4f}\".format(np.mean(errores33)))+\" ± \"+str(\"{0:.4f}\".format(np.std(errores33))),\n",
        "                   str(\"{0:.4f}\".format(np.mean(errores73)))+\" ± \"+str(\"{0:.4f}\".format(np.std(errores73))),\n",
        "                   str(\"{0:.4f}\".format(np.mean(errores133)))+\" ± \"+str(\"{0:.4f}\".format(np.std(errores133)))],\n",
        "                 [\"Población 150 y 200 Epocas\", \n",
        "                   str(\"{0:.4f}\".format(np.mean(errores34)))+\" ± \"+str(\"{0:.4f}\".format(np.std(errores34))),\n",
        "                   str(\"{0:.4f}\".format(np.mean(errores74)))+\" ± \"+str(\"{0:.4f}\".format(np.std(errores74))),\n",
        "                   str(\"{0:.4f}\".format(np.mean(errores134)))+\" ± \"+str(\"{0:.4f}\".format(np.std(errores134)))]],\n",
        "                [\"\", \"3 Reglas\", \"7 Reglas\", \"13 Reglas\"], \n",
        "                tablefmt=\"fancy_grid\"))"
      ],
      "execution_count": null,
      "outputs": [
        {
          "output_type": "stream",
          "text": [
            "\n",
            "\u001b[1mErrores validación simple\u001b[0m\n",
            "╒════════════════════════════╤═════════════════╤═════════════════╤═════════════════╕\n",
            "│                            │ 3 Reglas        │ 7 Reglas        │ 13 Reglas       │\n",
            "╞════════════════════════════╪═════════════════╪═════════════════╪═════════════════╡\n",
            "│ Población 50 y 100 Epocas  │ 0.3387 ± 0.0000 │ 0.2843 ± 0.0000 │ 0.3131 ± 0.0000 │\n",
            "├────────────────────────────┼─────────────────┼─────────────────┼─────────────────┤\n",
            "│ Población 50 y 200 Epocas  │ 0.3323 ± 0.0000 │ 0.3003 ± 0.0000 │ 0.2428 ± 0.0000 │\n",
            "├────────────────────────────┼─────────────────┼─────────────────┼─────────────────┤\n",
            "│ Población 150 y 100 Epocas │ 0.4473 ± 0.0000 │ 0.3035 ± 0.0000 │ 0.2780 ± 0.0000 │\n",
            "├────────────────────────────┼─────────────────┼─────────────────┼─────────────────┤\n",
            "│ Población 150 y 200 Epocas │ 0.2780 ± 0.0000 │ 0.2780 ± 0.0000 │ 0.2939 ± 0.0000 │\n",
            "╘════════════════════════════╧═════════════════╧═════════════════╧═════════════════╛\n"
          ],
          "name": "stdout"
        }
      ]
    },
    {
      "cell_type": "markdown",
      "metadata": {
        "id": "SP9WxiIcC6T5"
      },
      "source": [
        "Observamos que, para los datos que no cumplen ninguna regla, predecir una clase es mejor que no predecir nada. Vemos mejoras de más de un 17% en el caso del clasificador con 3 reglas, 50 individuos y 200 épocas, lo que supone una mejora bastante notoria y una solución óptima al problema encontrado."
      ]
    },
    {
      "cell_type": "markdown",
      "metadata": {
        "id": "gy-EHL3jd6qg"
      },
      "source": [
        "### Mejor individuo"
      ]
    },
    {
      "cell_type": "code",
      "metadata": {
        "colab": {
          "base_uri": "https://localhost:8080/"
        },
        "id": "5oMhSt_XC6T6",
        "outputId": "2494d40c-28ae-43c8-9d27-5d6ca6b981d2"
      },
      "source": [
        "print(\"Mejor individuo Reglas 13, Poblacion 50, Épocas 200\")\r\n",
        "for regla in clasificador132.mejorIndividuo:\r\n",
        "  print(regla)\r\n",
        "print()"
      ],
      "execution_count": null,
      "outputs": [
        {
          "output_type": "stream",
          "text": [
            "Mejor individuo Reglas 13, Poblacion 50, Épocas 200\n",
            "[1, 1, 0, 1, 0, 1, 1, 1, 1, 0, 1, 1, 0, 1, 1, 1, 1, 1, 0, 0, 0, 1]\n",
            "[0, 0, 0, 1, 0, 1, 0, 0, 1, 0, 1, 0, 0, 1, 0, 0, 1, 1, 1, 0, 1, 1]\n",
            "[1, 0, 1, 0, 0, 0, 0, 1, 0, 1, 0, 1, 0, 0, 1, 1, 0, 0, 0, 1, 0, 0]\n",
            "[1, 1, 0, 0, 1, 0, 1, 0, 1, 0, 1, 0, 1, 1, 1, 1, 1, 0, 1, 1, 1, 0]\n",
            "[0, 1, 0, 1, 1, 1, 1, 1, 1, 0, 1, 0, 0, 1, 0, 0, 0, 1, 0, 1, 0, 0]\n",
            "[0, 0, 0, 0, 1, 0, 1, 1, 0, 1, 0, 1, 0, 1, 0, 0, 0, 0, 1, 0, 0, 1]\n",
            "[1, 1, 1, 0, 1, 0, 1, 0, 0, 0, 0, 0, 0, 1, 1, 1, 0, 0, 0, 0, 1, 0]\n",
            "[1, 0, 1, 0, 1, 1, 0, 0, 0, 0, 0, 1, 0, 1, 0, 1, 1, 1, 1, 1, 1, 0]\n",
            "[1, 0, 0, 0, 0, 1, 1, 0, 1, 1, 0, 0, 0, 0, 0, 1, 0, 0, 1, 1, 0, 0]\n",
            "[1, 1, 1, 1, 0, 0, 1, 1, 0, 0, 1, 0, 1, 1, 1, 1, 1, 1, 1, 1, 0, 1]\n",
            "\n"
          ],
          "name": "stdout"
        }
      ]
    },
    {
      "cell_type": "markdown",
      "metadata": {
        "id": "OX5Nxn4veA8w"
      },
      "source": [
        "El mejor individuo para Titanic lo obtenemos con el clasificador de máximo 13 reglas, 50 individuos y 200 épocas y con el algoritmo mejorado prediciendo clases aleatorias cuando no se cumple ninguna regla. \n",
        "\n",
        "Una regla se compone de 22 bits como los siguientes, y se muestra el significado de cada grupo:\n",
        "[XXX.YY.ZZZZZZZZZZZZZZZZ.C]\n",
        "\n",
        "\n",
        "*   X: 1, 2 o 3 (PClass)\n",
        "*   Y: male, female (Sex)\n",
        "*   Z: 0, 1, 2, ... , 15 (Age). Se representan en orden lexicográfico, es decir 0, 1, 10, 11, 12, 13, 14, 15, 2, 3...\n",
        "*   C: 0 o 1 (Class)\n",
        "\n",
        "Así, por ejemplo, la regla [1, 0, 1, 0, 1, 1, 0, 0, 0, 0, 0, 1, 0, 1, 0, 1, 1, 1, 1, 1, 1, 0] significa que:\n",
        "\n",
        "\n",
        "*   PClass debe valer 1 OR 3, AND\n",
        "*   Sex debe valer male, AND\n",
        "*   Age debe valer 0 OR 14 OR 2 OR 4 OR 5 OR 6 OR 7 OR 8 OR 9, AND\n",
        "*   Class debe valer 0\n",
        "\n",
        "El resto de reglas se interpretan igual. Es simplemente un One-Hot Enconder de los atributos donde cada bit a uno indica un valor activado del atributo, y si se activan varios del mismo atributo sería una OR.\n",
        "\n",
        "\n"
      ]
    },
    {
      "cell_type": "markdown",
      "metadata": {
        "id": "6SxKTmkCisHX"
      },
      "source": [
        "# Análisis de resultados tic-tac-toe"
      ]
    },
    {
      "cell_type": "markdown",
      "metadata": {
        "id": "tS9BE_N-Ax9d"
      },
      "source": [
        "##Sin predecir random"
      ]
    },
    {
      "cell_type": "code",
      "metadata": {
        "colab": {
          "base_uri": "https://localhost:8080/"
        },
        "id": "PKsyDfGUisH5",
        "outputId": "f9fee244-2d07-4221-ffbc-70304c255499"
      },
      "source": [
        "from tabulate import tabulate\n",
        "import numpy as np\n",
        "\n",
        "print()\n",
        "print(\"\\033[1mErrores validación simple sin random\\033[0m\")\n",
        "# Obtiene media y desviación típica de los errores\n",
        "print (tabulate([[\"Población 50 y 100 Epocas\", \n",
        "                   str(\"{0:.4f}\".format(np.mean(errores31)))+\" ± \"+str(\"{0:.4f}\".format(np.std(errores31))),\n",
        "                   str(\"{0:.4f}\".format(np.mean(errores131)))+\" ± \"+str(\"{0:.4f}\".format(np.std(errores131))),\n",
        "                   str(\"{0:.4f}\".format(np.mean(errores431)))+\" ± \"+str(\"{0:.4f}\".format(np.std(errores431)))],\n",
        "                 [\"Población 50 y 200 Epocas\", \n",
        "                   str(\"{0:.4f}\".format(np.mean(errores32)))+\" ± \"+str(\"{0:.4f}\".format(np.std(errores32))),\n",
        "                   str(\"{0:.4f}\".format(np.mean(errores132)))+\" ± \"+str(\"{0:.4f}\".format(np.std(errores132))),\n",
        "                   str(\"{0:.4f}\".format(np.mean(errores432)))+\" ± \"+str(\"{0:.4f}\".format(np.std(errores432)))],\n",
        "                 [\"Población 150 y 100 Epocas\", \n",
        "                   str(\"{0:.4f}\".format(np.mean(errores33)))+\" ± \"+str(\"{0:.4f}\".format(np.std(errores33))),\n",
        "                   str(\"{0:.4f}\".format(np.mean(errores133)))+\" ± \"+str(\"{0:.4f}\".format(np.std(errores133))),\n",
        "                   str(\"{0:.4f}\".format(np.mean(errores433)))+\" ± \"+str(\"{0:.4f}\".format(np.std(errores433)))],\n",
        "                 [\"Población 150 y 200 Epocas\", \n",
        "                   str(\"{0:.4f}\".format(np.mean(errores34)))+\" ± \"+str(\"{0:.4f}\".format(np.std(errores34))),\n",
        "                   str(\"{0:.4f}\".format(np.mean(errores134)))+\" ± \"+str(\"{0:.4f}\".format(np.std(errores134))),\n",
        "                   #str(\"{0:.4f}\".format(np.mean(errores434)))+\" ± \"+str(\"{0:.4f}\".format(np.std(errores434)))\n",
        "                   ]],\n",
        "                [\"\", \"3 Reglas\", \"13 Reglas\", \"43 Reglas\"], \n",
        "                tablefmt=\"fancy_grid\"))"
      ],
      "execution_count": null,
      "outputs": [
        {
          "output_type": "stream",
          "text": [
            "\n",
            "\u001b[1mErrores validación simple sin random\u001b[0m\n",
            "╒════════════════════════════╤═════════════════╤═════════════════╤═════════════════╕\n",
            "│                            │ 3 Reglas        │ 13 Reglas       │ 43 Reglas       │\n",
            "╞════════════════════════════╪═════════════════╪═════════════════╪═════════════════╡\n",
            "│ Población 50 y 100 Epocas  │ 0.8328 ± 0.0000 │ 0.8258 ± 0.0000 │ 0.8537 ± 0.0000 │\n",
            "├────────────────────────────┼─────────────────┼─────────────────┼─────────────────┤\n",
            "│ Población 50 y 200 Epocas  │ 0.9199 ± 0.0000 │ 0.8920 ± 0.0000 │ 0.7178 ± 0.0000 │\n",
            "├────────────────────────────┼─────────────────┼─────────────────┼─────────────────┤\n",
            "│ Población 150 y 100 Epocas │ 0.8362 ± 0.0000 │ 0.9129 ± 0.0000 │ 0.7561 ± 0.0000 │\n",
            "├────────────────────────────┼─────────────────┼─────────────────┼─────────────────┤\n",
            "│ Población 150 y 200 Epocas │ 0.8746 ± 0.0000 │ 0.8815 ± 0.0000 │                 │\n",
            "╘════════════════════════════╧═════════════════╧═════════════════╧═════════════════╛\n"
          ],
          "name": "stdout"
        }
      ]
    },
    {
      "cell_type": "markdown",
      "metadata": {
        "id": "ISyH7foVedBm"
      },
      "source": [
        "Cuando vimos los resultados del algoritmo en este dataset observamos que eran bastante malos. Pensamos que podía ser cuestión de la cantidad de reglas del individuo, ya que el número de atributos es mucho mayor que en el caso de Titanic y por tanto es más difícil hacer coincidir totalmente una regla. Con esta idea en mente, probamos a crear individuos con muchas más reglas en un momento de la práctica y por eso vemos que hay un caso de 43 reglas. Sin embargo, observamos que sigue siendo bastante malo y que el coste computacional no merecía la pena para la mejora que se veía (por eso observamos que para el caso de 150 individuos y 200 épocas ya no hemos calculado este resultado, debido al alto coste computacional), por tanto decidimos cambiar la forma de predecir: nuestro algoritmo, cuando no conicidía ninguna regla, predecía una clase inválida, y decidimos que en vez de eso predeciría una clase aleatoria dentro de las posibles, que es lo que llamamos \"predecir random\"."
      ]
    },
    {
      "cell_type": "markdown",
      "metadata": {
        "id": "w9Nzg12VA5Qh"
      },
      "source": [
        "##Predecir Random"
      ]
    },
    {
      "cell_type": "code",
      "metadata": {
        "colab": {
          "base_uri": "https://localhost:8080/"
        },
        "id": "KfAoTlr7z7Ol",
        "outputId": "7d93eec3-666d-4996-810b-eccd046e93e6"
      },
      "source": [
        "from tabulate import tabulate\r\n",
        "import numpy as np\r\n",
        "\r\n",
        "print()\r\n",
        "print(\"\\033[1mErrores validación simple con random\\033[0m\")\r\n",
        "# Obtiene media y desviación típica de los errores\r\n",
        "print (tabulate([[\"Población 50 y 100 Epocas\", \r\n",
        "                   str(\"{0:.4f}\".format(np.mean(errores31)))+\" ± \"+str(\"{0:.4f}\".format(np.std(errores31))),\r\n",
        "                   str(\"{0:.4f}\".format(np.mean(errores71)))+\" ± \"+str(\"{0:.4f}\".format(np.std(errores71))),\r\n",
        "                   str(\"{0:.4f}\".format(np.mean(errores131)))+\" ± \"+str(\"{0:.4f}\".format(np.std(errores131)))\r\n",
        "                   ],\r\n",
        "                 [\"Población 50 y 200 Epocas\", \r\n",
        "                   str(\"{0:.4f}\".format(np.mean(errores32)))+\" ± \"+str(\"{0:.4f}\".format(np.std(errores32))),\r\n",
        "                   str(\"{0:.4f}\".format(np.mean(errores72)))+\" ± \"+str(\"{0:.4f}\".format(np.std(errores72))),\r\n",
        "                   str(\"{0:.4f}\".format(np.mean(errores132)))+\" ± \"+str(\"{0:.4f}\".format(np.std(errores132)))\r\n",
        "                   ],\r\n",
        "                 [\"Población 150 y 100 Epocas\", \r\n",
        "                   str(\"{0:.4f}\".format(np.mean(errores33)))+\" ± \"+str(\"{0:.4f}\".format(np.std(errores33))),\r\n",
        "                   str(\"{0:.4f}\".format(np.mean(errores73)))+\" ± \"+str(\"{0:.4f}\".format(np.std(errores73))),\r\n",
        "                   str(\"{0:.4f}\".format(np.mean(errores133)))+\" ± \"+str(\"{0:.4f}\".format(np.std(errores133)))\r\n",
        "                   ],\r\n",
        "                 [\"Población 150 y 200 Epocas\", \r\n",
        "                   str(\"{0:.4f}\".format(np.mean(errores34)))+\" ± \"+str(\"{0:.4f}\".format(np.std(errores34))),\r\n",
        "                   str(\"{0:.4f}\".format(np.mean(errores74)))+\" ± \"+str(\"{0:.4f}\".format(np.std(errores74))),\r\n",
        "                   str(\"{0:.4f}\".format(np.mean(errores134)))+\" ± \"+str(\"{0:.4f}\".format(np.std(errores134)))\r\n",
        "                   ]],\r\n",
        "                [\"\", \"3 Reglas\", \"7 Reglas\", \"13 Reglas\"], \r\n",
        "                tablefmt=\"fancy_grid\"))"
      ],
      "execution_count": null,
      "outputs": [
        {
          "output_type": "stream",
          "text": [
            "\n",
            "\u001b[1mErrores validación simple con random\u001b[0m\n",
            "╒════════════════════════════╤═════════════════╤═════════════════╤═════════════════╕\n",
            "│                            │ 3 Reglas        │ 7 Reglas        │ 13 Reglas       │\n",
            "╞════════════════════════════╪═════════════════╪═════════════════╪═════════════════╡\n",
            "│ Población 50 y 100 Epocas  │ 0.4495 ± 0.0000 │ 0.5157 ± 0.0000 │ 0.3798 ± 0.0000 │\n",
            "├────────────────────────────┼─────────────────┼─────────────────┼─────────────────┤\n",
            "│ Población 50 y 200 Epocas  │ 0.5226 ± 0.0000 │ 0.4948 ± 0.0000 │ 0.4669 ± 0.0000 │\n",
            "├────────────────────────────┼─────────────────┼─────────────────┼─────────────────┤\n",
            "│ Población 150 y 100 Epocas │ 0.4634 ± 0.0000 │ 0.5889 ± 0.0000 │ 0.5296 ± 0.0000 │\n",
            "├────────────────────────────┼─────────────────┼─────────────────┼─────────────────┤\n",
            "│ Población 150 y 200 Epocas │ 0.4948 ± 0.0000 │ 0.4774 ± 0.0000 │ 0.4983 ± 0.0000 │\n",
            "╘════════════════════════════╧═════════════════╧═════════════════╧═════════════════╛\n"
          ],
          "name": "stdout"
        }
      ]
    },
    {
      "cell_type": "markdown",
      "metadata": {
        "id": "VnxmTtn-bmKP"
      },
      "source": [
        "Observamos que, tras el cambio, mejora bastante el algoritmo, y el coste computacional sigue siendo igual porque es simplemente pasar de predecir -1 (clase inválida) a un random entre las dos clases váldas que haya.\r\n",
        "\r\n",
        "Observamos que el mejor resultado lo encontramos con 13 reglas, 50 individuos en la población y 100 épocas. Para el conjunto de Titanic también fueron 13 reglas y 50 individuos, por lo que parece ser que este es un buen valor de estos parámetros con el que obtener buenos resultados (al menos para estos conjuntos de datos, no hay que generalizar mucho en estas cosas).\r\n",
        "\r\n",
        "Para este dataset se nos ha olvidado mostrar el conjunto de reglas del mejor individuo, y como ha tardado todo tanto en ejecutarse no nos ha dado tiempo a volverlo a hacer. Además, dado que los resultados son mucho peores que para Titanic, es más representativo el otro y se interpretaría de forma similar:\r\n",
        "\r\n",
        "Una regla se compone de 28 bits como los siguientes, y se muestra el significado de cada grupo:\r\n",
        "[AAA.BBB.CCC.DDD.EEE.FFF.GGG.HHH.III.X]\r\n",
        "\r\n",
        "\r\n",
        "*   A, B, C, D, E, F, G, H, I: b, o OR x (TLeftSq, TMidSq, TRightSq, MLeftSq, MMidSq, MRightSq, BLeftSq, BMidSq, BRightSq)\r\n",
        "*   X: negative OR positive (Class)"
      ]
    },
    {
      "cell_type": "markdown",
      "metadata": {
        "id": "Fvst5PdgzcJo"
      },
      "source": [
        "#Evolución gráfica del entrenamiento"
      ]
    },
    {
      "cell_type": "markdown",
      "metadata": {
        "id": "QIRd84w9fkvE"
      },
      "source": [
        "*Ejemplo con ejecuciones en entrenamiento para el dataset titanic*"
      ]
    },
    {
      "cell_type": "markdown",
      "metadata": {
        "id": "YtPWfknWA_Yw"
      },
      "source": [
        "##Fitness del mejor individuo por generación"
      ]
    },
    {
      "cell_type": "code",
      "metadata": {
        "colab": {
          "base_uri": "https://localhost:8080/",
          "height": 295
        },
        "id": "Iw11Il9V7kOq",
        "outputId": "68268c69-71ce-4b48-c492-9d194673eaff"
      },
      "source": [
        "plt.plot(clasificador132.scoresIndividuos, color='navy', linestyle='--')\r\n",
        "\r\n",
        "plt.title('Score Mejor individuo por generación')\r\n",
        "plt.xlabel('Generaciones') \r\n",
        "plt.ylim(0, 1)\r\n",
        "plt.ylabel('Score mejor')\r\n",
        "plt.show()"
      ],
      "execution_count": null,
      "outputs": [
        {
          "output_type": "display_data",
          "data": {
            "image/png": "[encoded data removed]",
            "text/plain": [
              "<Figure size 432x288 with 1 Axes>"
            ]
          },
          "metadata": {
            "tags": [],
            "needs_background": "light"
          }
        }
      ]
    },
    {
      "cell_type": "markdown",
      "metadata": {
        "id": "BlYcXiYrjeUr"
      },
      "source": [
        "Se observa que, gracias al elitismo, el mejor individuo de la población para cada generación es mejor o igual al mejor individuo de la población para la generación anterior. Observamos que llega un punto en el que ya el algoritmo no mejora más, y que la mejora que hace tampoco es muy grande en comparación con otras mejoras que hemos ido viendo en otros algoritmos a lo largo de la asignatura."
      ]
    },
    {
      "cell_type": "markdown",
      "metadata": {
        "id": "fTIUinAXBEeH"
      },
      "source": [
        "##Fitness medio de la población por generación"
      ]
    },
    {
      "cell_type": "code",
      "metadata": {
        "colab": {
          "base_uri": "https://localhost:8080/",
          "height": 573
        },
        "id": "z4wlNmgH9LxZ",
        "outputId": "a151e839-5863-47df-8905-c05158a76376"
      },
      "source": [
        "plt.plot(clasificador132.scoresMedios, color='navy', linestyle='--')\r\n",
        "\r\n",
        "plt.title('Score medio de la población por generación')\r\n",
        "plt.xlabel('Generaciones') \r\n",
        "plt.ylim(0, 1)\r\n",
        "plt.ylabel('Score medio')\r\n",
        "plt.show()\r\n",
        "\r\n",
        "\r\n",
        "plt.plot(clasificador132.scoresMedios, color='navy', linestyle='--')\r\n",
        "\r\n",
        "plt.title('Score medio de la población por generación (ampliado)')\r\n",
        "plt.xlabel('Generaciones') \r\n",
        "plt.ylabel('Score medio')\r\n",
        "plt.show()"
      ],
      "execution_count": null,
      "outputs": [
        {
          "output_type": "display_data",
          "data": {
            "image/png": "[encoded data removed]",
            "text/plain": [
              "<Figure size 432x288 with 1 Axes>"
            ]
          },
          "metadata": {
            "tags": [],
            "needs_background": "light"
          }
        },
        {
          "output_type": "display_data",
          "data": {
            "image/png": "[encoded data removed]",
            "text/plain": [
              "<Figure size 432x288 with 1 Axes>"
            ]
          },
          "metadata": {
            "tags": [],
            "needs_background": "light"
          }
        }
      ]
    },
    {
      "cell_type": "markdown",
      "metadata": {
        "id": "Rm42g1UCjlKe"
      },
      "source": [
        "Se observa el fitness medio de la población que va variando respecto una generación a otra debido a las componentes aleatorias de cada ejecución."
      ]
    },
    {
      "cell_type": "markdown",
      "metadata": {
        "id": "VbTQDZJLzg2i"
      },
      "source": [
        "# Análisis ROC"
      ]
    },
    {
      "cell_type": "markdown",
      "metadata": {
        "id": "F7FB1MX5gJpb"
      },
      "source": [
        "## Titanic"
      ]
    },
    {
      "cell_type": "code",
      "metadata": {
        "id": "ZUV29gLUbp3i"
      },
      "source": [
        "#Naive Bayes\r\n",
        "\r\n",
        "from sklearn.preprocessing import OneHotEncoder\r\n",
        "from sklearn.naive_bayes import MultinomialNB\r\n",
        "from sklearn.model_selection import cross_val_score\r\n",
        "from sklearn.model_selection import cross_val_predict\r\n",
        "from sklearn.model_selection import train_test_split\r\n",
        "import pandas as pd\r\n",
        "from sklearn.metrics import confusion_matrix\r\n",
        "from sklearn.metrics import roc_curve  \r\n",
        "from sklearn import metrics\r\n",
        "\r\n",
        "df = pd.read_csv(\"titanic.data\")\r\n",
        "nombres_atrs = list(df.columns)\r\n",
        "nombres_atrs.remove(\"Class\")\r\n",
        "X = df[nombres_atrs].values\r\n",
        "y = df[\"Class\"].values\r\n",
        "\r\n",
        "# Utilizamos el propio sklearn para transformar los datos nominales a numéricos\r\n",
        "enc = OneHotEncoder(sparse=False)\r\n",
        "enc.fit(X)\r\n",
        "X2 = enc.transform(X)\r\n",
        "x_train1, x_test1, y_train1, y_test1 = train_test_split(X2, y, test_size=0.3)\r\n",
        "\r\n",
        "clf_laplace = MultinomialNB() # Con Laplace\r\n",
        "clf_laplace.fit(x_train1, y_train1)\r\n",
        "\r\n",
        "errores = 1 - cross_val_score(clf_laplace, X2, y, cv=10)\r\n",
        "pred = cross_val_predict(clf_laplace, X2, y, cv=10)\r\n",
        "\r\n",
        "matrizConfusionNB = confusion_matrix(y, pred)"
      ],
      "execution_count": null,
      "outputs": []
    },
    {
      "cell_type": "markdown",
      "metadata": {
        "id": "GWUKr3vIgRF0"
      },
      "source": [
        "###Matrices de confusión"
      ]
    },
    {
      "cell_type": "code",
      "metadata": {
        "colab": {
          "base_uri": "https://localhost:8080/"
        },
        "id": "7VLwLKc7gWau",
        "outputId": "60cb489c-5106-491b-9032-eb578cc81c29"
      },
      "source": [
        "from tabulate import tabulate\r\n",
        "\r\n",
        "print()\r\n",
        "print(\"\\033[1mMatrices de confusión\\033[0m\")\r\n",
        "print (tabulate([[matrizConfusion132, \r\n",
        "                   matrizConfusionNB]], \r\n",
        "                [\"Reglas 13, Poblacion 50, Épocas 200\", \"Naive Bayes con Laplace\"], \r\n",
        "                tablefmt=\"fancy_grid\"))"
      ],
      "execution_count": null,
      "outputs": [
        {
          "output_type": "stream",
          "text": [
            "\n",
            "\u001b[1mMatrices de confusión\u001b[0m\n",
            "╒═══════════════════════════════════════╤═══════════════════════════╕\n",
            "│ Reglas 13, Poblacion 50, Épocas 200   │ Naive Bayes con Laplace   │\n",
            "╞═══════════════════════════════════════╪═══════════════════════════╡\n",
            "│ [[157  41]                            │ [[515 104]                │\n",
            "│  [ 35  80]]                           │  [128 299]]               │\n",
            "╘═══════════════════════════════════════╧═══════════════════════════╛\n"
          ],
          "name": "stdout"
        }
      ]
    },
    {
      "cell_type": "markdown",
      "metadata": {
        "id": "-mBrD2JvknCE"
      },
      "source": [
        "En las tabla superiores podemos comparar las matrices de confusión resultantes de ejecutar el mejor clasificador para Titanic y el algoritmo de Naive Bayes con Laplace. Dentro de cada matriz la celda 11 indica TP (verdaderos positivos), la celda 12 indica FP (falsos positivos), la celda 21 indica FN (falsos negativos) y la celda 22 indica TN (verdaderos negativos). \n",
        "La diagonal principal indica los valores que se han predicho correctamente, y podemos observar que en nuestro mejor clasificador genético es bastante correcta (un 75% de aciertos, aproximadamente) comparandolo con la diagonal contraria, que serían las predicciones incorrectas (un 25% de fallos, aproximadamente)."
      ]
    },
    {
      "cell_type": "markdown",
      "metadata": {
        "id": "3FTG-gtMgcR2"
      },
      "source": [
        "###Espacio ROC"
      ]
    },
    {
      "cell_type": "code",
      "metadata": {
        "colab": {
          "base_uri": "https://localhost:8080/",
          "height": 329
        },
        "id": "SoaMHDtXYXzI",
        "outputId": "5043aefc-fcb4-4b09-e436-d75a054b4900"
      },
      "source": [
        "import matplotlib.pyplot as plt\r\n",
        "\r\n",
        "plt.plot([0, 1], [0, 1], color='navy', linestyle='--')\r\n",
        "plt.plot([(matrizConfusion132[0,1]/(matrizConfusion132[0,1]+matrizConfusion132[1,1]))], [(matrizConfusion132[0,0]/(matrizConfusion132[0,0]+matrizConfusion132[1,0]))], 'ro')\r\n",
        "plt.plot([(matrizConfusionNB[0,1]/(matrizConfusionNB[0,1]+matrizConfusionNB[1,1]))], [(matrizConfusionNB[0,0]/(matrizConfusionNB[0,0]+matrizConfusionNB[1,0]))], 'bo') # NB con Laplace\r\n",
        "\r\n",
        "\r\n",
        "plt.title('Espacio ROC titanic')\r\n",
        "plt.xlabel('FPR') \r\n",
        "plt.ylabel('TPR')\r\n",
        "plt.legend(['Random Guess','Reglas 7, Poblacion 150, Épocas 100','Reglas 13, Poblacion 50, Épocas 200', \"Naive Bayes con Laplace\"], bbox_to_anchor=(1.05, 1), loc='upper left', borderaxespad=0.)\r\n",
        "plt.show()\r\n",
        "\r\n",
        "print(\"ACC Reglas 13, Poblacion 50, Épocas 200 = \" + str(\"{0:.4f}\".format((matrizConfusion132[0,0]+matrizConfusion132[1,1])/(matrizConfusion132[0,0]+matrizConfusion132[1,0]+matrizConfusion132[0,1]+matrizConfusion132[1,1]))))\r\n",
        "print(\"ACC Naive Bayes con Laplace = \" + str(\"{0:.4f}\".format((matrizConfusionNB[0,0]+matrizConfusionNB[1,1])/(matrizConfusionNB[0,0]+matrizConfusionNB[1,0]+matrizConfusionNB[0,1]+matrizConfusionNB[1,1]))))"
      ],
      "execution_count": null,
      "outputs": [
        {
          "output_type": "display_data",
          "data": {
            "image/png": "[encoded data removed]",
            "text/plain": [
              "<Figure size 432x288 with 1 Axes>"
            ]
          },
          "metadata": {
            "tags": [],
            "needs_background": "light"
          }
        },
        {
          "output_type": "stream",
          "text": [
            "ACC Reglas 13, Poblacion 50, Épocas 200 = 0.7572\n",
            "ACC Naive Bayes con Laplace = 0.7782\n"
          ],
          "name": "stdout"
        }
      ]
    },
    {
      "cell_type": "markdown",
      "metadata": {
        "id": "oGvKn7Qmlwpu"
      },
      "source": [
        "**Fe de erratas**: el punto rojo indica en la leyenda que es un clasificador genético de 7 reglas, 150 individuos y 100 épocas, pero en realidad está mostrando el resultado del clasificador genético de 13 reglas, 50 individuos y 200 épocas, mientras que el azul muestra Naive Bayes con Laplace. Perdón."
      ]
    },
    {
      "cell_type": "markdown",
      "metadata": {
        "id": "1SbVmE0_ljVY"
      },
      "source": [
        "En el espacio ROC se muestran los puntos de los dos casos anteriores que tratamos en las matrices de confusión. Un método perfecto de predicción se situaría en un punto en la esquina superior izquierda del espacio ROC, representando que no hay ningún falso negativo y ningún falso positivo. La diagonal (Random Guess) divide el espacio ROC, los puntos por encima de la diagonal representan los buenos resultados de clasificación (mejor que el azar), y los puntos por debajo de la línea de los resultados pobres (peor que al azar).\n",
        "ACC indica el porcentaje de aciertos, es decir, lo contrario de los errores que evaluamos anteriormente.\n",
        "\n",
        "Ambos modelos comparados están por encima de la curva, y observamos que Naive Bayes es ligeramente mejor (del orden del 2%) que nuestro clasificador genético para Titanic.\n",
        "\n",
        "\n"
      ]
    },
    {
      "cell_type": "markdown",
      "metadata": {
        "id": "JtEpyA1Zgg6x"
      },
      "source": [
        "###Curva ROC"
      ]
    },
    {
      "cell_type": "code",
      "metadata": {
        "colab": {
          "base_uri": "https://localhost:8080/",
          "height": 295
        },
        "id": "lYIAICSOgjEK",
        "outputId": "b9d295fa-6062-40eb-d11d-b776eb2bdcda"
      },
      "source": [
        "import matplotlib.pyplot as plt\r\n",
        "\r\n",
        "metrics.plot_roc_curve(clf_laplace, x_test1, y_test1, color='darkorange')\r\n",
        "plt.plot([0, 1], [0, 1], color='navy', linestyle='--')\r\n",
        "plt.title('ROC titanic Naive Bayes')\r\n",
        "plt.legend(loc=\"lower right\")\r\n",
        "plt.show()"
      ],
      "execution_count": null,
      "outputs": [
        {
          "output_type": "display_data",
          "data": {
            "image/png": "[encoded data removed]",
            "text/plain": [
              "<Figure size 432x288 with 1 Axes>"
            ]
          },
          "metadata": {
            "tags": [],
            "needs_background": "light"
          }
        }
      ]
    },
    {
      "cell_type": "markdown",
      "metadata": {
        "id": "__wS3IagvQhU"
      },
      "source": [
        "Según las curvas ROC, cuanto mayor área haya bajo la curva, mejor.  Esta área posee un valor comprendido entre 0,5 y 1, donde 1 representa un valor diagnóstico perfecto. Es decir, como el AUC es 0,81 significa que existe un 81% de probabilidad de que predicción realizada sea correcta."
      ]
    },
    {
      "cell_type": "markdown",
      "metadata": {
        "id": "84dtodLWi50U"
      },
      "source": [
        "## Tic-tac-toe"
      ]
    },
    {
      "cell_type": "code",
      "metadata": {
        "id": "-ip4aBIqi50Z"
      },
      "source": [
        "#Naive Bayes\r\n",
        "from sklearn.model_selection import train_test_split\r\n",
        "from sklearn.preprocessing import OneHotEncoder\r\n",
        "from sklearn.naive_bayes import MultinomialNB\r\n",
        "from sklearn.model_selection import cross_val_score\r\n",
        "from sklearn.model_selection import cross_val_predict\r\n",
        "import pandas as pd\r\n",
        "from sklearn.metrics import confusion_matrix\r\n",
        "from sklearn.metrics import roc_curve  \r\n",
        "from sklearn import metrics\r\n",
        "\r\n",
        "df = pd.read_csv(\"tic-tac-toe.data\")\r\n",
        "nombres_atrs = list(df.columns)\r\n",
        "nombres_atrs.remove(\"Class\")\r\n",
        "X = df[nombres_atrs].values\r\n",
        "y = df[\"Class\"].values\r\n",
        "\r\n",
        "# Utilizamos el propio sklearn para transformar los datos nominales a numéricos\r\n",
        "enc = OneHotEncoder(sparse=False)\r\n",
        "enc.fit(X)\r\n",
        "X2 = enc.transform(X)\r\n",
        "x_train1, x_test1, y_train1, y_test1 = train_test_split(X2, y, test_size=0.3)\r\n",
        "\r\n",
        "clf_laplace = MultinomialNB() # Con Laplace\r\n",
        "clf_laplace.fit(x_train1, y_train1)\r\n",
        "\r\n",
        "errores = 1 - cross_val_score(clf_laplace, X2, y, cv=10)\r\n",
        "pred = cross_val_predict(clf_laplace, X2, y, cv=10)\r\n",
        "\r\n",
        "matrizConfusionNB = confusion_matrix(y, pred)"
      ],
      "execution_count": null,
      "outputs": []
    },
    {
      "cell_type": "markdown",
      "metadata": {
        "id": "pdh4LBEMi50f"
      },
      "source": [
        "###Matrices de confusión"
      ]
    },
    {
      "cell_type": "code",
      "metadata": {
        "colab": {
          "base_uri": "https://localhost:8080/"
        },
        "id": "wtlCaa9pi50l",
        "outputId": "2d7f8382-0dee-4a63-c7e1-7865adf55704"
      },
      "source": [
        "from tabulate import tabulate\r\n",
        "\r\n",
        "print()\r\n",
        "print(\"\\033[1mMatrices de confusión\\033[0m\")\r\n",
        "print (tabulate([[matrizConfusion131, \r\n",
        "                   matrizConfusionNB]], \r\n",
        "                [\"Reglas 7, Poblacion 50, Épocas 100\", \"Naive Bayes con Laplace\"], \r\n",
        "                tablefmt=\"fancy_grid\"))"
      ],
      "execution_count": null,
      "outputs": [
        {
          "output_type": "stream",
          "text": [
            "\n",
            "\u001b[1mMatrices de confusión\u001b[0m\n",
            "╒══════════════════════════════════════╤═══════════════════════════╕\n",
            "│ Reglas 7, Poblacion 50, Épocas 100   │ Naive Bayes con Laplace   │\n",
            "╞══════════════════════════════════════╪═══════════════════════════╡\n",
            "│ [[ 39  51]                           │ [[131 201]                │\n",
            "│  [ 58 139]]                          │  [122 504]]               │\n",
            "╘══════════════════════════════════════╧═══════════════════════════╛\n"
          ],
          "name": "stdout"
        }
      ]
    },
    {
      "cell_type": "markdown",
      "metadata": {
        "id": "b8SSXftomqvw"
      },
      "source": [
        "La diagonal principal indica los valores que se han predicho correctamente, y podemos observar que para nuetro mejor clasificador genético es correcta (un 62% de aciertos, aproximadamente) comparandolo con la diagonal contraria, que serían las predicciones incorrectas (un 38% de fallos, aproximadamente). Vemos que el resultado es peor que para Titanic, como venimos observando ya con anterioridad."
      ]
    },
    {
      "cell_type": "markdown",
      "metadata": {
        "id": "0V-PmzVti50r"
      },
      "source": [
        "###Espacio ROC"
      ]
    },
    {
      "cell_type": "code",
      "metadata": {
        "colab": {
          "base_uri": "https://localhost:8080/",
          "height": 329
        },
        "id": "x03nQ5eXi50y",
        "outputId": "a5308a07-8f71-41e5-9a3d-e6152b750238"
      },
      "source": [
        "import matplotlib.pyplot as plt\r\n",
        "\r\n",
        "plt.plot([0, 1], [0, 1], color='navy', linestyle='--')\r\n",
        "plt.plot([(matrizConfusion131[0,1]/(matrizConfusion131[0,1]+matrizConfusion131[1,1]))], [(matrizConfusion131[0,0]/(matrizConfusion131[0,0]+matrizConfusion131[1,0]))], 'ro') # Nuestro sin Laplace\r\n",
        "plt.plot([(matrizConfusionNB[0,1]/(matrizConfusionNB[0,1]+matrizConfusionNB[1,1]))], [(matrizConfusionNB[0,0]/(matrizConfusionNB[0,0]+matrizConfusionNB[1,0]))], 'bo') # NB con Laplace\r\n",
        "\r\n",
        "\r\n",
        "plt.title('Espacio ROC tic-tac-toe')\r\n",
        "plt.xlabel('FPR') \r\n",
        "plt.ylabel('TPR')\r\n",
        "plt.legend(['Random Guess','Reglas 7, Poblacion 50, Épocas 100', \"Naive Bayes con Laplace\"], bbox_to_anchor=(1.05, 1), loc='upper left', borderaxespad=0.)\r\n",
        "plt.show()\r\n",
        "\r\n",
        "print(\"ACC Reglas 7, Poblacion 50, Épocas 100 = \" + str(\"{0:.4f}\".format((matrizConfusion131[0,0]+matrizConfusion131[1,1])/(matrizConfusion131[0,0]+matrizConfusion131[1,0]+matrizConfusion131[0,1]+matrizConfusion131[1,1]))))\r\n",
        "print(\"ACC Naive Bayes con Laplace = \" + str(\"{0:.4f}\".format((matrizConfusionNB[0,0]+matrizConfusionNB[1,1])/(matrizConfusionNB[0,0]+matrizConfusionNB[1,0]+matrizConfusionNB[0,1]+matrizConfusionNB[1,1]))))"
      ],
      "execution_count": null,
      "outputs": [
        {
          "output_type": "display_data",
          "data": {
            "image/png": "[encoded data removed]",
            "text/plain": [
              "<Figure size 432x288 with 1 Axes>"
            ]
          },
          "metadata": {
            "tags": [],
            "needs_background": "light"
          }
        },
        {
          "output_type": "stream",
          "text": [
            "ACC Reglas 7, Poblacion 50, Épocas 100 = 0.6202\n",
            "ACC Naive Bayes con Laplace = 0.6628\n"
          ],
          "name": "stdout"
        }
      ]
    },
    {
      "cell_type": "markdown",
      "metadata": {
        "id": "D9WBd90enU6W"
      },
      "source": [
        "Ambos modelos comparados están por encima de la curva, y observamos que Naive Bayes es mejor (del orden del 4%) que nuestro clasificador genético para Tic-tac-toe. Además, observamos que la *accuracy* ha caído un 13% aproximadamente respecto al otro conjunto de datos."
      ]
    },
    {
      "cell_type": "markdown",
      "metadata": {
        "id": "1R61lBB_i506"
      },
      "source": [
        "###Curva ROC"
      ]
    },
    {
      "cell_type": "code",
      "metadata": {
        "colab": {
          "base_uri": "https://localhost:8080/",
          "height": 295
        },
        "id": "6HymrJX5i51A",
        "outputId": "6a3d0e4d-b7ef-4594-924e-620e0fc2b2bd"
      },
      "source": [
        "import matplotlib.pyplot as plt\r\n",
        "\r\n",
        "metrics.plot_roc_curve(clf_laplace, x_test1, y_test1, color='darkorange')\r\n",
        "plt.plot([0, 1], [0, 1], color='navy', linestyle='--')\r\n",
        "plt.title('ROC titanic Naive Bayes')\r\n",
        "plt.legend(loc=\"lower right\")\r\n",
        "plt.show()"
      ],
      "execution_count": null,
      "outputs": [
        {
          "output_type": "display_data",
          "data": {
            "image/png": "[encoded data removed]",
            "text/plain": [
              "<Figure size 432x288 with 1 Axes>"
            ]
          },
          "metadata": {
            "tags": [],
            "needs_background": "light"
          }
        }
      ]
    },
    {
      "cell_type": "markdown",
      "metadata": {
        "id": "N3LR0nYVvwBA"
      },
      "source": [
        "Según las curvas ROC, cuanto mayor área haya bajo la curva, mejor.  Esta área posee un valor comprendido entre 0,5 y 1, donde 1 representa un valor diagnóstico perfecto. Es decir, como el AUC es 0,72 significa que existe un 72% de probabilidad de que predicción realizada sea correcta. \n",
        "\n",
        "Podemos observar que Naive Bayes también predice peor para el conjunto tic-tac-toe, no solo nuestro clasificador genético, pues vemos que ha bajado de un 81% de accuracy a un 72%. No obstante, predice mejor Naive Bayes que nuestro clasificador genético para ambos caso y por eso entendemos que los algoritmos genéticos no se utilicen casi hoy en día, debido a su alto coste computacional y a sus peores resultados de clasificación comparados con otros algoritmos más eficientes en general."
      ]
    }
  ]
}