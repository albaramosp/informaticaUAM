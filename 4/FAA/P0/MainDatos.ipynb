{
  "nbformat": 4,
  "nbformat_minor": 0,
  "metadata": {
    "colab": {
      "name": "P0_FAA.ipynb",
      "provenance": [],
      "collapsed_sections": []
    },
    "kernelspec": {
      "name": "python3",
      "display_name": "Python 3"
    }
  },
  "cells": [
    {
      "cell_type": "markdown",
      "metadata": {
        "id": "hnkCoVez-LLX"
      },
      "source": [
        "Primero probamos el conjunto de datos tic-tac-toe que contenía unicamente atributos nominales. Después probamos el conjunto german que mezcla nominales y enteros."
      ]
    },
    {
      "cell_type": "code",
      "metadata": {
        "id": "MZZ4nFYnHIJe",
        "outputId": "1c317174-cff6-46b2-c615-23da0b0ad36d",
        "colab": {
          "base_uri": "https://localhost:8080/",
          "height": 581
        }
      },
      "source": [
        "from Datos import Datos\n",
        "\n",
        "if __name__ == \"__main__\":\n",
        "    # Probamos el conjunto de datos tic-tac-toe\n",
        "    datos = Datos(\"tic-tac-toe.data\")\n",
        "\n",
        "    print(datos.nominalAtributos)\n",
        "    print(datos.diccionario)\n",
        "    print(datos.datos)\n",
        "\n",
        "    # Probamos el conjunto de datos geman.data\n",
        "    datos2 = Datos(\"german.data\")\n",
        "\n",
        "    print(datos2.nominalAtributos)\n",
        "    print(datos2.diccionario)\n",
        "    print(datos2.datos)"
      ],
      "execution_count": 2,
      "outputs": [
        {
          "output_type": "stream",
          "text": [
            "[True, True, True, True, True, True, True, True, True, True]\n",
            "{'TLeftSq': {'b': 0, 'o': 1, 'x': 2}, 'TMidSq': {'b': 0, 'o': 1, 'x': 2}, 'TRightSq': {'b': 0, 'o': 1, 'x': 2}, 'MLeftSq': {'b': 0, 'o': 1, 'x': 2}, 'MMidSq': {'b': 0, 'o': 1, 'x': 2}, 'MRightSq': {'b': 0, 'o': 1, 'x': 2}, 'BLeftSq': {'b': 0, 'o': 1, 'x': 2}, 'BMidSq': {'b': 0, 'o': 1, 'x': 2}, 'BRightSq': {'b': 0, 'o': 1, 'x': 2}, 'Class': {'negative': 0, 'positive': 1}}\n",
            "     TLeftSq  TMidSq  TRightSq  MLeftSq  ...  BLeftSq  BMidSq  BRightSq  Class\n",
            "0          2       2         2        2  ...        2       1         1      1\n",
            "1          2       2         2        2  ...        1       2         1      1\n",
            "2          2       2         2        2  ...        1       1         2      1\n",
            "3          2       2         2        2  ...        1       0         0      1\n",
            "4          2       2         2        2  ...        0       1         0      1\n",
            "..       ...     ...       ...      ...  ...      ...     ...       ...    ...\n",
            "953        1       2         2        2  ...        1       2         2      0\n",
            "954        1       2         1        2  ...        2       1         2      0\n",
            "955        1       2         1        2  ...        2       1         2      0\n",
            "956        1       2         1        1  ...        2       1         2      0\n",
            "957        1       1         2        2  ...        1       2         2      0\n",
            "\n",
            "[958 rows x 10 columns]\n",
            "[True, False, True, True, False, True, True, False, True, True, False, True, False, True, True, False, True, False, True, True, False]\n",
            "{'A1': {'A11': 0, 'A12': 1, 'A13': 2, 'A14': 3}, 'A2': {}, 'A3': {'A30': 0, 'A31': 1, 'A32': 2, 'A33': 3, 'A34': 4}, 'A4': {'A40': 0, 'A41': 1, 'A410': 2, 'A42': 3, 'A43': 4, 'A44': 5, 'A45': 6, 'A46': 7, 'A48': 8, 'A49': 9}, 'A5': {}, 'A6': {'A61': 0, 'A62': 1, 'A63': 2, 'A64': 3, 'A65': 4}, 'A7': {'A71': 0, 'A72': 1, 'A73': 2, 'A74': 3, 'A75': 4}, 'A8': {}, 'A9': {'A91': 0, 'A92': 1, 'A93': 2, 'A94': 3}, 'A10': {'A101': 0, 'A102': 1, 'A103': 2}, 'A11': {}, 'A12': {'A121': 0, 'A122': 1, 'A123': 2, 'A124': 3}, 'A13': {}, 'A14': {'A141': 0, 'A142': 1, 'A143': 2}, 'A15': {'A151': 0, 'A152': 1, 'A153': 2}, 'A16': {}, 'A17': {'A171': 0, 'A172': 1, 'A173': 2, 'A174': 3}, 'A18': {}, 'A19': {'A191': 0, 'A192': 1}, 'A20': {'A201': 0, 'A202': 1}, 'Class': {}}\n",
            "     A1  A2  A3  A4    A5  A6  A7  A8  ...  A14  A15  A16  A17  A18  A19  A20  Class\n",
            "0     0   6   4   4  1169   4   4   4  ...    2    1    2    2    1    1    0      1\n",
            "1     1  48   2   4  5951   0   2   2  ...    2    1    1    2    1    0    0      2\n",
            "2     3  12   4   7  2096   0   3   2  ...    2    1    1    1    2    0    0      1\n",
            "3     0  42   2   3  7882   0   3   2  ...    2    2    1    2    2    0    0      1\n",
            "4     0  24   3   0  4870   0   2   3  ...    2    2    2    2    2    0    0      2\n",
            "..   ..  ..  ..  ..   ...  ..  ..  ..  ...  ...  ...  ...  ...  ...  ...  ...    ...\n",
            "995   3  12   2   3  1736   0   3   3  ...    2    1    1    1    1    0    0      1\n",
            "996   0  30   2   1  3857   0   2   4  ...    2    1    1    3    1    1    0      1\n",
            "997   3  12   2   4   804   0   4   4  ...    2    1    1    2    1    0    0      1\n",
            "998   0  45   2   4  1845   0   2   4  ...    2    2    1    2    1    1    0      2\n",
            "999   1  45   4   1  4576   1   0   3  ...    2    1    1    2    1    0    0      1\n",
            "\n",
            "[1000 rows x 21 columns]\n"
          ],
          "name": "stdout"
        }
      ]
    },
    {
      "cell_type": "markdown",
      "metadata": {
        "id": "3wDHp4OM-hU7"
      },
      "source": [
        "Podemos comprobar tras la ejecución, que en el caso de los atributos nominales se han puesto los valores correctamente en orden lexicografico en el diccionario: *{'b': 0, 'o': 1, 'x': 2}* \n",
        "En el caso de los que no son nominales, el diccionario está vacio y en la matriz de datos observamos sus valores originales."
      ]
    }
  ]
}